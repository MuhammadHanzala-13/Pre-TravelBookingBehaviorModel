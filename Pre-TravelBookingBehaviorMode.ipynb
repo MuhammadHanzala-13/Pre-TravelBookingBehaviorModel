{
  "cells": [
    {
      "cell_type": "markdown",
      "metadata": {
        "id": "u2MlQuIynbQm"
      },
      "source": [
        "### Predictive modeling of customer bookings\n",
        "\n",
        "This Jupyter notebook includes some code to get you started with this predictive modeling task. We will use various packages for data manipulation, feature engineering and machine learning.\n",
        "\n",
        "### Exploratory data analysis\n",
        "\n",
        "First, we must explore the data in order to better understand what we have and the statistical properties of the dataset."
      ]
    },
    {
      "cell_type": "code",
      "execution_count": 25,
      "metadata": {
        "id": "ti9LLKMgnbQp"
      },
      "outputs": [],
      "source": [
        "# Step 1: Import Required Libraries\n",
        "import pandas as pd\n",
        "import numpy as np\n",
        "import matplotlib.pyplot as plt\n",
        "import seaborn as sns\n",
        "\n",
        "from sklearn.model_selection import train_test_split, cross_val_score\n",
        "from sklearn.ensemble import RandomForestClassifier\n",
        "from sklearn.metrics import classification_report, confusion_matrix, accuracy_score,f1_score,precision_score,recall_score\n",
        "from sklearn.preprocessing import LabelEncoder\n",
        "\n",
        "from imblearn.over_sampling import SMOTE\n",
        "#need stratifeildKfold for increase cvs.\n",
        "from sklearn.model_selection import StratifiedKFold"
      ]
    },
    {
      "cell_type": "code",
      "execution_count": 4,
      "metadata": {
        "colab": {
          "base_uri": "https://localhost:8080/",
          "height": 226
        },
        "id": "A_qtr0zenbQq",
        "outputId": "632b6c01-bb8d-4556-bea6-341079e47750"
      },
      "outputs": [
        {
          "output_type": "execute_result",
          "data": {
            "text/plain": [
              "   num_passengers sales_channel  trip_type  purchase_lead  length_of_stay  \\\n",
              "0               2      Internet  RoundTrip            262              19   \n",
              "1               1      Internet  RoundTrip            112              20   \n",
              "2               2      Internet  RoundTrip            243              22   \n",
              "3               1      Internet  RoundTrip             96              31   \n",
              "4               2      Internet  RoundTrip             68              22   \n",
              "\n",
              "   flight_hour flight_day   route booking_origin  wants_extra_baggage  \\\n",
              "0            7        Sat  AKLDEL    New Zealand                    1   \n",
              "1            3        Sat  AKLDEL    New Zealand                    0   \n",
              "2           17        Wed  AKLDEL          India                    1   \n",
              "3            4        Sat  AKLDEL    New Zealand                    0   \n",
              "4           15        Wed  AKLDEL          India                    1   \n",
              "\n",
              "   wants_preferred_seat  wants_in_flight_meals  flight_duration  \\\n",
              "0                     0                      0             5.52   \n",
              "1                     0                      0             5.52   \n",
              "2                     1                      0             5.52   \n",
              "3                     0                      1             5.52   \n",
              "4                     0                      1             5.52   \n",
              "\n",
              "   booking_complete  \n",
              "0                 0  \n",
              "1                 0  \n",
              "2                 0  \n",
              "3                 0  \n",
              "4                 0  "
            ],
            "text/html": [
              "\n",
              "  <div id=\"df-5a579680-8723-45a2-8577-a79efeecf8b6\" class=\"colab-df-container\">\n",
              "    <div>\n",
              "<style scoped>\n",
              "    .dataframe tbody tr th:only-of-type {\n",
              "        vertical-align: middle;\n",
              "    }\n",
              "\n",
              "    .dataframe tbody tr th {\n",
              "        vertical-align: top;\n",
              "    }\n",
              "\n",
              "    .dataframe thead th {\n",
              "        text-align: right;\n",
              "    }\n",
              "</style>\n",
              "<table border=\"1\" class=\"dataframe\">\n",
              "  <thead>\n",
              "    <tr style=\"text-align: right;\">\n",
              "      <th></th>\n",
              "      <th>num_passengers</th>\n",
              "      <th>sales_channel</th>\n",
              "      <th>trip_type</th>\n",
              "      <th>purchase_lead</th>\n",
              "      <th>length_of_stay</th>\n",
              "      <th>flight_hour</th>\n",
              "      <th>flight_day</th>\n",
              "      <th>route</th>\n",
              "      <th>booking_origin</th>\n",
              "      <th>wants_extra_baggage</th>\n",
              "      <th>wants_preferred_seat</th>\n",
              "      <th>wants_in_flight_meals</th>\n",
              "      <th>flight_duration</th>\n",
              "      <th>booking_complete</th>\n",
              "    </tr>\n",
              "  </thead>\n",
              "  <tbody>\n",
              "    <tr>\n",
              "      <th>0</th>\n",
              "      <td>2</td>\n",
              "      <td>Internet</td>\n",
              "      <td>RoundTrip</td>\n",
              "      <td>262</td>\n",
              "      <td>19</td>\n",
              "      <td>7</td>\n",
              "      <td>Sat</td>\n",
              "      <td>AKLDEL</td>\n",
              "      <td>New Zealand</td>\n",
              "      <td>1</td>\n",
              "      <td>0</td>\n",
              "      <td>0</td>\n",
              "      <td>5.52</td>\n",
              "      <td>0</td>\n",
              "    </tr>\n",
              "    <tr>\n",
              "      <th>1</th>\n",
              "      <td>1</td>\n",
              "      <td>Internet</td>\n",
              "      <td>RoundTrip</td>\n",
              "      <td>112</td>\n",
              "      <td>20</td>\n",
              "      <td>3</td>\n",
              "      <td>Sat</td>\n",
              "      <td>AKLDEL</td>\n",
              "      <td>New Zealand</td>\n",
              "      <td>0</td>\n",
              "      <td>0</td>\n",
              "      <td>0</td>\n",
              "      <td>5.52</td>\n",
              "      <td>0</td>\n",
              "    </tr>\n",
              "    <tr>\n",
              "      <th>2</th>\n",
              "      <td>2</td>\n",
              "      <td>Internet</td>\n",
              "      <td>RoundTrip</td>\n",
              "      <td>243</td>\n",
              "      <td>22</td>\n",
              "      <td>17</td>\n",
              "      <td>Wed</td>\n",
              "      <td>AKLDEL</td>\n",
              "      <td>India</td>\n",
              "      <td>1</td>\n",
              "      <td>1</td>\n",
              "      <td>0</td>\n",
              "      <td>5.52</td>\n",
              "      <td>0</td>\n",
              "    </tr>\n",
              "    <tr>\n",
              "      <th>3</th>\n",
              "      <td>1</td>\n",
              "      <td>Internet</td>\n",
              "      <td>RoundTrip</td>\n",
              "      <td>96</td>\n",
              "      <td>31</td>\n",
              "      <td>4</td>\n",
              "      <td>Sat</td>\n",
              "      <td>AKLDEL</td>\n",
              "      <td>New Zealand</td>\n",
              "      <td>0</td>\n",
              "      <td>0</td>\n",
              "      <td>1</td>\n",
              "      <td>5.52</td>\n",
              "      <td>0</td>\n",
              "    </tr>\n",
              "    <tr>\n",
              "      <th>4</th>\n",
              "      <td>2</td>\n",
              "      <td>Internet</td>\n",
              "      <td>RoundTrip</td>\n",
              "      <td>68</td>\n",
              "      <td>22</td>\n",
              "      <td>15</td>\n",
              "      <td>Wed</td>\n",
              "      <td>AKLDEL</td>\n",
              "      <td>India</td>\n",
              "      <td>1</td>\n",
              "      <td>0</td>\n",
              "      <td>1</td>\n",
              "      <td>5.52</td>\n",
              "      <td>0</td>\n",
              "    </tr>\n",
              "  </tbody>\n",
              "</table>\n",
              "</div>\n",
              "    <div class=\"colab-df-buttons\">\n",
              "\n",
              "  <div class=\"colab-df-container\">\n",
              "    <button class=\"colab-df-convert\" onclick=\"convertToInteractive('df-5a579680-8723-45a2-8577-a79efeecf8b6')\"\n",
              "            title=\"Convert this dataframe to an interactive table.\"\n",
              "            style=\"display:none;\">\n",
              "\n",
              "  <svg xmlns=\"http://www.w3.org/2000/svg\" height=\"24px\" viewBox=\"0 -960 960 960\">\n",
              "    <path d=\"M120-120v-720h720v720H120Zm60-500h600v-160H180v160Zm220 220h160v-160H400v160Zm0 220h160v-160H400v160ZM180-400h160v-160H180v160Zm440 0h160v-160H620v160ZM180-180h160v-160H180v160Zm440 0h160v-160H620v160Z\"/>\n",
              "  </svg>\n",
              "    </button>\n",
              "\n",
              "  <style>\n",
              "    .colab-df-container {\n",
              "      display:flex;\n",
              "      gap: 12px;\n",
              "    }\n",
              "\n",
              "    .colab-df-convert {\n",
              "      background-color: #E8F0FE;\n",
              "      border: none;\n",
              "      border-radius: 50%;\n",
              "      cursor: pointer;\n",
              "      display: none;\n",
              "      fill: #1967D2;\n",
              "      height: 32px;\n",
              "      padding: 0 0 0 0;\n",
              "      width: 32px;\n",
              "    }\n",
              "\n",
              "    .colab-df-convert:hover {\n",
              "      background-color: #E2EBFA;\n",
              "      box-shadow: 0px 1px 2px rgba(60, 64, 67, 0.3), 0px 1px 3px 1px rgba(60, 64, 67, 0.15);\n",
              "      fill: #174EA6;\n",
              "    }\n",
              "\n",
              "    .colab-df-buttons div {\n",
              "      margin-bottom: 4px;\n",
              "    }\n",
              "\n",
              "    [theme=dark] .colab-df-convert {\n",
              "      background-color: #3B4455;\n",
              "      fill: #D2E3FC;\n",
              "    }\n",
              "\n",
              "    [theme=dark] .colab-df-convert:hover {\n",
              "      background-color: #434B5C;\n",
              "      box-shadow: 0px 1px 3px 1px rgba(0, 0, 0, 0.15);\n",
              "      filter: drop-shadow(0px 1px 2px rgba(0, 0, 0, 0.3));\n",
              "      fill: #FFFFFF;\n",
              "    }\n",
              "  </style>\n",
              "\n",
              "    <script>\n",
              "      const buttonEl =\n",
              "        document.querySelector('#df-5a579680-8723-45a2-8577-a79efeecf8b6 button.colab-df-convert');\n",
              "      buttonEl.style.display =\n",
              "        google.colab.kernel.accessAllowed ? 'block' : 'none';\n",
              "\n",
              "      async function convertToInteractive(key) {\n",
              "        const element = document.querySelector('#df-5a579680-8723-45a2-8577-a79efeecf8b6');\n",
              "        const dataTable =\n",
              "          await google.colab.kernel.invokeFunction('convertToInteractive',\n",
              "                                                    [key], {});\n",
              "        if (!dataTable) return;\n",
              "\n",
              "        const docLinkHtml = 'Like what you see? Visit the ' +\n",
              "          '<a target=\"_blank\" href=https://colab.research.google.com/notebooks/data_table.ipynb>data table notebook</a>'\n",
              "          + ' to learn more about interactive tables.';\n",
              "        element.innerHTML = '';\n",
              "        dataTable['output_type'] = 'display_data';\n",
              "        await google.colab.output.renderOutput(dataTable, element);\n",
              "        const docLink = document.createElement('div');\n",
              "        docLink.innerHTML = docLinkHtml;\n",
              "        element.appendChild(docLink);\n",
              "      }\n",
              "    </script>\n",
              "  </div>\n",
              "\n",
              "\n",
              "    <div id=\"df-560a8e0f-f666-4934-97fd-dd381a28cfa9\">\n",
              "      <button class=\"colab-df-quickchart\" onclick=\"quickchart('df-560a8e0f-f666-4934-97fd-dd381a28cfa9')\"\n",
              "                title=\"Suggest charts\"\n",
              "                style=\"display:none;\">\n",
              "\n",
              "<svg xmlns=\"http://www.w3.org/2000/svg\" height=\"24px\"viewBox=\"0 0 24 24\"\n",
              "     width=\"24px\">\n",
              "    <g>\n",
              "        <path d=\"M19 3H5c-1.1 0-2 .9-2 2v14c0 1.1.9 2 2 2h14c1.1 0 2-.9 2-2V5c0-1.1-.9-2-2-2zM9 17H7v-7h2v7zm4 0h-2V7h2v10zm4 0h-2v-4h2v4z\"/>\n",
              "    </g>\n",
              "</svg>\n",
              "      </button>\n",
              "\n",
              "<style>\n",
              "  .colab-df-quickchart {\n",
              "      --bg-color: #E8F0FE;\n",
              "      --fill-color: #1967D2;\n",
              "      --hover-bg-color: #E2EBFA;\n",
              "      --hover-fill-color: #174EA6;\n",
              "      --disabled-fill-color: #AAA;\n",
              "      --disabled-bg-color: #DDD;\n",
              "  }\n",
              "\n",
              "  [theme=dark] .colab-df-quickchart {\n",
              "      --bg-color: #3B4455;\n",
              "      --fill-color: #D2E3FC;\n",
              "      --hover-bg-color: #434B5C;\n",
              "      --hover-fill-color: #FFFFFF;\n",
              "      --disabled-bg-color: #3B4455;\n",
              "      --disabled-fill-color: #666;\n",
              "  }\n",
              "\n",
              "  .colab-df-quickchart {\n",
              "    background-color: var(--bg-color);\n",
              "    border: none;\n",
              "    border-radius: 50%;\n",
              "    cursor: pointer;\n",
              "    display: none;\n",
              "    fill: var(--fill-color);\n",
              "    height: 32px;\n",
              "    padding: 0;\n",
              "    width: 32px;\n",
              "  }\n",
              "\n",
              "  .colab-df-quickchart:hover {\n",
              "    background-color: var(--hover-bg-color);\n",
              "    box-shadow: 0 1px 2px rgba(60, 64, 67, 0.3), 0 1px 3px 1px rgba(60, 64, 67, 0.15);\n",
              "    fill: var(--button-hover-fill-color);\n",
              "  }\n",
              "\n",
              "  .colab-df-quickchart-complete:disabled,\n",
              "  .colab-df-quickchart-complete:disabled:hover {\n",
              "    background-color: var(--disabled-bg-color);\n",
              "    fill: var(--disabled-fill-color);\n",
              "    box-shadow: none;\n",
              "  }\n",
              "\n",
              "  .colab-df-spinner {\n",
              "    border: 2px solid var(--fill-color);\n",
              "    border-color: transparent;\n",
              "    border-bottom-color: var(--fill-color);\n",
              "    animation:\n",
              "      spin 1s steps(1) infinite;\n",
              "  }\n",
              "\n",
              "  @keyframes spin {\n",
              "    0% {\n",
              "      border-color: transparent;\n",
              "      border-bottom-color: var(--fill-color);\n",
              "      border-left-color: var(--fill-color);\n",
              "    }\n",
              "    20% {\n",
              "      border-color: transparent;\n",
              "      border-left-color: var(--fill-color);\n",
              "      border-top-color: var(--fill-color);\n",
              "    }\n",
              "    30% {\n",
              "      border-color: transparent;\n",
              "      border-left-color: var(--fill-color);\n",
              "      border-top-color: var(--fill-color);\n",
              "      border-right-color: var(--fill-color);\n",
              "    }\n",
              "    40% {\n",
              "      border-color: transparent;\n",
              "      border-right-color: var(--fill-color);\n",
              "      border-top-color: var(--fill-color);\n",
              "    }\n",
              "    60% {\n",
              "      border-color: transparent;\n",
              "      border-right-color: var(--fill-color);\n",
              "    }\n",
              "    80% {\n",
              "      border-color: transparent;\n",
              "      border-right-color: var(--fill-color);\n",
              "      border-bottom-color: var(--fill-color);\n",
              "    }\n",
              "    90% {\n",
              "      border-color: transparent;\n",
              "      border-bottom-color: var(--fill-color);\n",
              "    }\n",
              "  }\n",
              "</style>\n",
              "\n",
              "      <script>\n",
              "        async function quickchart(key) {\n",
              "          const quickchartButtonEl =\n",
              "            document.querySelector('#' + key + ' button');\n",
              "          quickchartButtonEl.disabled = true;  // To prevent multiple clicks.\n",
              "          quickchartButtonEl.classList.add('colab-df-spinner');\n",
              "          try {\n",
              "            const charts = await google.colab.kernel.invokeFunction(\n",
              "                'suggestCharts', [key], {});\n",
              "          } catch (error) {\n",
              "            console.error('Error during call to suggestCharts:', error);\n",
              "          }\n",
              "          quickchartButtonEl.classList.remove('colab-df-spinner');\n",
              "          quickchartButtonEl.classList.add('colab-df-quickchart-complete');\n",
              "        }\n",
              "        (() => {\n",
              "          let quickchartButtonEl =\n",
              "            document.querySelector('#df-560a8e0f-f666-4934-97fd-dd381a28cfa9 button');\n",
              "          quickchartButtonEl.style.display =\n",
              "            google.colab.kernel.accessAllowed ? 'block' : 'none';\n",
              "        })();\n",
              "      </script>\n",
              "    </div>\n",
              "\n",
              "    </div>\n",
              "  </div>\n"
            ],
            "application/vnd.google.colaboratory.intrinsic+json": {
              "type": "dataframe",
              "variable_name": "df",
              "summary": "{\n  \"name\": \"df\",\n  \"rows\": 50000,\n  \"fields\": [\n    {\n      \"column\": \"num_passengers\",\n      \"properties\": {\n        \"dtype\": \"number\",\n        \"std\": 1,\n        \"min\": 1,\n        \"max\": 9,\n        \"num_unique_values\": 9,\n        \"samples\": [\n          9,\n          1,\n          5\n        ],\n        \"semantic_type\": \"\",\n        \"description\": \"\"\n      }\n    },\n    {\n      \"column\": \"sales_channel\",\n      \"properties\": {\n        \"dtype\": \"category\",\n        \"num_unique_values\": 2,\n        \"samples\": [\n          \"Mobile\",\n          \"Internet\"\n        ],\n        \"semantic_type\": \"\",\n        \"description\": \"\"\n      }\n    },\n    {\n      \"column\": \"trip_type\",\n      \"properties\": {\n        \"dtype\": \"category\",\n        \"num_unique_values\": 3,\n        \"samples\": [\n          \"RoundTrip\",\n          \"CircleTrip\"\n        ],\n        \"semantic_type\": \"\",\n        \"description\": \"\"\n      }\n    },\n    {\n      \"column\": \"purchase_lead\",\n      \"properties\": {\n        \"dtype\": \"number\",\n        \"std\": 90,\n        \"min\": 0,\n        \"max\": 867,\n        \"num_unique_values\": 470,\n        \"samples\": [\n          102,\n          63\n        ],\n        \"semantic_type\": \"\",\n        \"description\": \"\"\n      }\n    },\n    {\n      \"column\": \"length_of_stay\",\n      \"properties\": {\n        \"dtype\": \"number\",\n        \"std\": 33,\n        \"min\": 0,\n        \"max\": 778,\n        \"num_unique_values\": 335,\n        \"samples\": [\n          23,\n          184\n        ],\n        \"semantic_type\": \"\",\n        \"description\": \"\"\n      }\n    },\n    {\n      \"column\": \"flight_hour\",\n      \"properties\": {\n        \"dtype\": \"number\",\n        \"std\": 5,\n        \"min\": 0,\n        \"max\": 23,\n        \"num_unique_values\": 24,\n        \"samples\": [\n          12,\n          11\n        ],\n        \"semantic_type\": \"\",\n        \"description\": \"\"\n      }\n    },\n    {\n      \"column\": \"flight_day\",\n      \"properties\": {\n        \"dtype\": \"category\",\n        \"num_unique_values\": 7,\n        \"samples\": [\n          \"Sat\",\n          \"Wed\"\n        ],\n        \"semantic_type\": \"\",\n        \"description\": \"\"\n      }\n    },\n    {\n      \"column\": \"route\",\n      \"properties\": {\n        \"dtype\": \"category\",\n        \"num_unique_values\": 799,\n        \"samples\": [\n          \"SYDTPE\",\n          \"PUSSYD\"\n        ],\n        \"semantic_type\": \"\",\n        \"description\": \"\"\n      }\n    },\n    {\n      \"column\": \"booking_origin\",\n      \"properties\": {\n        \"dtype\": \"category\",\n        \"num_unique_values\": 104,\n        \"samples\": [\n          \"Croatia\",\n          \"Jordan\"\n        ],\n        \"semantic_type\": \"\",\n        \"description\": \"\"\n      }\n    },\n    {\n      \"column\": \"wants_extra_baggage\",\n      \"properties\": {\n        \"dtype\": \"number\",\n        \"std\": 0,\n        \"min\": 0,\n        \"max\": 1,\n        \"num_unique_values\": 2,\n        \"samples\": [\n          0,\n          1\n        ],\n        \"semantic_type\": \"\",\n        \"description\": \"\"\n      }\n    },\n    {\n      \"column\": \"wants_preferred_seat\",\n      \"properties\": {\n        \"dtype\": \"number\",\n        \"std\": 0,\n        \"min\": 0,\n        \"max\": 1,\n        \"num_unique_values\": 2,\n        \"samples\": [\n          1,\n          0\n        ],\n        \"semantic_type\": \"\",\n        \"description\": \"\"\n      }\n    },\n    {\n      \"column\": \"wants_in_flight_meals\",\n      \"properties\": {\n        \"dtype\": \"number\",\n        \"std\": 0,\n        \"min\": 0,\n        \"max\": 1,\n        \"num_unique_values\": 2,\n        \"samples\": [\n          1,\n          0\n        ],\n        \"semantic_type\": \"\",\n        \"description\": \"\"\n      }\n    },\n    {\n      \"column\": \"flight_duration\",\n      \"properties\": {\n        \"dtype\": \"number\",\n        \"std\": 1.496862916326865,\n        \"min\": 4.67,\n        \"max\": 9.5,\n        \"num_unique_values\": 21,\n        \"samples\": [\n          5.52,\n          5.0\n        ],\n        \"semantic_type\": \"\",\n        \"description\": \"\"\n      }\n    },\n    {\n      \"column\": \"booking_complete\",\n      \"properties\": {\n        \"dtype\": \"number\",\n        \"std\": 0,\n        \"min\": 0,\n        \"max\": 1,\n        \"num_unique_values\": 2,\n        \"samples\": [\n          1,\n          0\n        ],\n        \"semantic_type\": \"\",\n        \"description\": \"\"\n      }\n    }\n  ]\n}"
            }
          },
          "metadata": {},
          "execution_count": 4
        }
      ],
      "source": [
        "df = pd.read_csv(\"customer_booking.csv\", encoding=\"ISO-8859-1\")\n",
        "df.head()"
      ]
    },
    {
      "cell_type": "markdown",
      "metadata": {
        "id": "1eg3kofqnbQr"
      },
      "source": [
        "The `.head()` method allows us to view the first 5 rows in the dataset, this is useful for visual inspection of our columns"
      ]
    },
    {
      "cell_type": "code",
      "execution_count": 5,
      "metadata": {
        "colab": {
          "base_uri": "https://localhost:8080/"
        },
        "id": "bQmYScNfnbQr",
        "outputId": "b06700aa-00d6-47b3-8262-357b2d991be1"
      },
      "outputs": [
        {
          "output_type": "stream",
          "name": "stdout",
          "text": [
            "<class 'pandas.core.frame.DataFrame'>\n",
            "RangeIndex: 50000 entries, 0 to 49999\n",
            "Data columns (total 14 columns):\n",
            " #   Column                 Non-Null Count  Dtype  \n",
            "---  ------                 --------------  -----  \n",
            " 0   num_passengers         50000 non-null  int64  \n",
            " 1   sales_channel          50000 non-null  object \n",
            " 2   trip_type              50000 non-null  object \n",
            " 3   purchase_lead          50000 non-null  int64  \n",
            " 4   length_of_stay         50000 non-null  int64  \n",
            " 5   flight_hour            50000 non-null  int64  \n",
            " 6   flight_day             50000 non-null  object \n",
            " 7   route                  50000 non-null  object \n",
            " 8   booking_origin         50000 non-null  object \n",
            " 9   wants_extra_baggage    50000 non-null  int64  \n",
            " 10  wants_preferred_seat   50000 non-null  int64  \n",
            " 11  wants_in_flight_meals  50000 non-null  int64  \n",
            " 12  flight_duration        50000 non-null  float64\n",
            " 13  booking_complete       50000 non-null  int64  \n",
            "dtypes: float64(1), int64(8), object(5)\n",
            "memory usage: 5.3+ MB\n"
          ]
        }
      ],
      "source": [
        "df.info()"
      ]
    },
    {
      "cell_type": "markdown",
      "metadata": {
        "id": "jcU6r_ERnbQs"
      },
      "source": [
        "The `.info()` method gives us a data description, telling us the names of the columns, their data types and how many null values we have. Fortunately, we have no null values. It looks like some of these columns should be converted into different data types, e.g. flight_day.\n",
        "\n",
        "To provide more context, below is a more detailed data description, explaining exactly what each column means:\n",
        "\n",
        "- `num_passengers` = number of passengers travelling\n",
        "- `sales_channel` = sales channel booking was made on\n",
        "- `trip_type` = trip Type (Round Trip, One Way, Circle Trip)\n",
        "- `purchase_lead` = number of days between travel date and booking date\n",
        "- `length_of_stay` = number of days spent at destination\n",
        "- `flight_hour` = hour of flight departure\n",
        "- `flight_day` = day of week of flight departure\n",
        "- `route` = origin -> destination flight route\n",
        "- `booking_origin` = country from where booking was made\n",
        "- `wants_extra_baggage` = if the customer wanted extra baggage in the booking\n",
        "- `wants_preferred_seat` = if the customer wanted a preferred seat in the booking\n",
        "- `wants_in_flight_meals` = if the customer wanted in-flight meals in the booking\n",
        "- `flight_duration` = total duration of flight (in hours)\n",
        "- `booking_complete` = flag indicating if the customer completed the booking\n",
        "\n",
        "Before we compute any statistics on the data, lets do any necessary data conversion"
      ]
    },
    {
      "cell_type": "code",
      "execution_count": 6,
      "metadata": {
        "colab": {
          "base_uri": "https://localhost:8080/"
        },
        "id": "7tKTRbDtnbQs",
        "outputId": "7e96e770-10f4-44af-ce49-cedbc64b1724"
      },
      "outputs": [
        {
          "output_type": "execute_result",
          "data": {
            "text/plain": [
              "array(['Sat', 'Wed', 'Thu', 'Mon', 'Sun', 'Tue', 'Fri'], dtype=object)"
            ]
          },
          "metadata": {},
          "execution_count": 6
        }
      ],
      "source": [
        "df[\"flight_day\"].unique()"
      ]
    },
    {
      "cell_type": "code",
      "execution_count": 7,
      "metadata": {
        "id": "S7QZIJxtnbQt"
      },
      "outputs": [],
      "source": [
        "# mapping = {\n",
        "#     \"Mon\": 1,\n",
        "#     \"Tue\": 2,\n",
        "#     \"Wed\": 3,\n",
        "#     \"Thu\": 4,\n",
        "#     \"Fri\": 5,\n",
        "#     \"Sat\": 6,\n",
        "#     \"Sun\": 7,\n",
        "# }\n",
        "\n",
        "# df[\"flight_day\"] = df[\"flight_day\"].map(mapping)"
      ]
    },
    {
      "cell_type": "code",
      "execution_count": 8,
      "metadata": {
        "id": "rUJRfxPJnbQt"
      },
      "outputs": [],
      "source": [
        "# df[\"flight_day\"].unique()"
      ]
    },
    {
      "cell_type": "code",
      "source": [],
      "metadata": {
        "id": "j_-CxHXFodxT"
      },
      "execution_count": 8,
      "outputs": []
    },
    {
      "cell_type": "markdown",
      "metadata": {
        "id": "Ic5NHWu9nbQv"
      },
      "source": [
        "The `.describe()` method gives us a summary of descriptive statistics over the entire dataset (only works for numeric columns). This gives us a quick overview of a few things such as the mean, min, max and overall distribution of each column.\n",
        "\n",
        "From this point, you should continue exploring the dataset with some visualisations and other metrics that you think may be useful. Then, you should prepare your dataset for predictive modelling. Finally, you should train your machine learning model, evaluate it with performance metrics and output visualisations for the contributing variables. All of this analysis should be summarised in your single slide."
      ]
    },
    {
      "cell_type": "code",
      "source": [
        "df.isna().sum()  # checking weather there is any null values"
      ],
      "metadata": {
        "colab": {
          "base_uri": "https://localhost:8080/",
          "height": 523
        },
        "id": "Gv9dYfzSoy2h",
        "outputId": "8956d5e1-a52e-4203-bd6a-bc6821718da0"
      },
      "execution_count": 9,
      "outputs": [
        {
          "output_type": "execute_result",
          "data": {
            "text/plain": [
              "num_passengers           0\n",
              "sales_channel            0\n",
              "trip_type                0\n",
              "purchase_lead            0\n",
              "length_of_stay           0\n",
              "flight_hour              0\n",
              "flight_day               0\n",
              "route                    0\n",
              "booking_origin           0\n",
              "wants_extra_baggage      0\n",
              "wants_preferred_seat     0\n",
              "wants_in_flight_meals    0\n",
              "flight_duration          0\n",
              "booking_complete         0\n",
              "dtype: int64"
            ],
            "text/html": [
              "<div>\n",
              "<style scoped>\n",
              "    .dataframe tbody tr th:only-of-type {\n",
              "        vertical-align: middle;\n",
              "    }\n",
              "\n",
              "    .dataframe tbody tr th {\n",
              "        vertical-align: top;\n",
              "    }\n",
              "\n",
              "    .dataframe thead th {\n",
              "        text-align: right;\n",
              "    }\n",
              "</style>\n",
              "<table border=\"1\" class=\"dataframe\">\n",
              "  <thead>\n",
              "    <tr style=\"text-align: right;\">\n",
              "      <th></th>\n",
              "      <th>0</th>\n",
              "    </tr>\n",
              "  </thead>\n",
              "  <tbody>\n",
              "    <tr>\n",
              "      <th>num_passengers</th>\n",
              "      <td>0</td>\n",
              "    </tr>\n",
              "    <tr>\n",
              "      <th>sales_channel</th>\n",
              "      <td>0</td>\n",
              "    </tr>\n",
              "    <tr>\n",
              "      <th>trip_type</th>\n",
              "      <td>0</td>\n",
              "    </tr>\n",
              "    <tr>\n",
              "      <th>purchase_lead</th>\n",
              "      <td>0</td>\n",
              "    </tr>\n",
              "    <tr>\n",
              "      <th>length_of_stay</th>\n",
              "      <td>0</td>\n",
              "    </tr>\n",
              "    <tr>\n",
              "      <th>flight_hour</th>\n",
              "      <td>0</td>\n",
              "    </tr>\n",
              "    <tr>\n",
              "      <th>flight_day</th>\n",
              "      <td>0</td>\n",
              "    </tr>\n",
              "    <tr>\n",
              "      <th>route</th>\n",
              "      <td>0</td>\n",
              "    </tr>\n",
              "    <tr>\n",
              "      <th>booking_origin</th>\n",
              "      <td>0</td>\n",
              "    </tr>\n",
              "    <tr>\n",
              "      <th>wants_extra_baggage</th>\n",
              "      <td>0</td>\n",
              "    </tr>\n",
              "    <tr>\n",
              "      <th>wants_preferred_seat</th>\n",
              "      <td>0</td>\n",
              "    </tr>\n",
              "    <tr>\n",
              "      <th>wants_in_flight_meals</th>\n",
              "      <td>0</td>\n",
              "    </tr>\n",
              "    <tr>\n",
              "      <th>flight_duration</th>\n",
              "      <td>0</td>\n",
              "    </tr>\n",
              "    <tr>\n",
              "      <th>booking_complete</th>\n",
              "      <td>0</td>\n",
              "    </tr>\n",
              "  </tbody>\n",
              "</table>\n",
              "</div><br><label><b>dtype:</b> int64</label>"
            ]
          },
          "metadata": {},
          "execution_count": 9
        }
      ]
    },
    {
      "cell_type": "code",
      "source": [
        "# so there in no null value in our data\n",
        "df.info()\n",
        "df.shape\n"
      ],
      "metadata": {
        "colab": {
          "base_uri": "https://localhost:8080/"
        },
        "id": "7hf-hmnnpE5-",
        "outputId": "816d0d20-2427-4174-a38e-1f6c31afe3ec"
      },
      "execution_count": 21,
      "outputs": [
        {
          "output_type": "stream",
          "name": "stdout",
          "text": [
            "<class 'pandas.core.frame.DataFrame'>\n",
            "RangeIndex: 50000 entries, 0 to 49999\n",
            "Data columns (total 14 columns):\n",
            " #   Column                 Non-Null Count  Dtype  \n",
            "---  ------                 --------------  -----  \n",
            " 0   num_passengers         50000 non-null  int64  \n",
            " 1   sales_channel          50000 non-null  int64  \n",
            " 2   trip_type              50000 non-null  int64  \n",
            " 3   purchase_lead          50000 non-null  int64  \n",
            " 4   length_of_stay         50000 non-null  int64  \n",
            " 5   flight_hour            50000 non-null  int64  \n",
            " 6   flight_day             50000 non-null  int64  \n",
            " 7   route                  50000 non-null  int64  \n",
            " 8   booking_origin         50000 non-null  int64  \n",
            " 9   wants_extra_baggage    50000 non-null  int64  \n",
            " 10  wants_preferred_seat   50000 non-null  int64  \n",
            " 11  wants_in_flight_meals  50000 non-null  int64  \n",
            " 12  flight_duration        50000 non-null  float64\n",
            " 13  booking_complete       50000 non-null  int64  \n",
            "dtypes: float64(1), int64(13)\n",
            "memory usage: 5.3 MB\n"
          ]
        },
        {
          "output_type": "execute_result",
          "data": {
            "text/plain": [
              "(50000, 14)"
            ]
          },
          "metadata": {},
          "execution_count": 21
        }
      ]
    },
    {
      "cell_type": "code",
      "source": [
        "df.dropna().sum()"
      ],
      "metadata": {
        "colab": {
          "base_uri": "https://localhost:8080/",
          "height": 523
        },
        "id": "HqUO9sahpEsy",
        "outputId": "3dc7d8a6-d7a2-4cbc-8aa4-2eda1a571753"
      },
      "execution_count": 11,
      "outputs": [
        {
          "output_type": "execute_result",
          "data": {
            "text/plain": [
              "num_passengers                                                       79562\n",
              "sales_channel            InternetInternetInternetInternetInternetIntern...\n",
              "trip_type                RoundTripRoundTripRoundTripRoundTripRoundTripR...\n",
              "purchase_lead                                                      4247024\n",
              "length_of_stay                                                     1152228\n",
              "flight_hour                                                         453317\n",
              "flight_day               SatSatWedSatWedThuThuMonMonSunTueSatMonFriTueT...\n",
              "route                    AKLDELAKLDELAKLDELAKLDELAKLDELAKLDELAKLDELAKLD...\n",
              "booking_origin           New ZealandNew ZealandIndiaNew ZealandIndiaNew...\n",
              "wants_extra_baggage                                                  33439\n",
              "wants_preferred_seat                                                 14848\n",
              "wants_in_flight_meals                                                21357\n",
              "flight_duration                                                  363878.04\n",
              "booking_complete                                                      7478\n",
              "dtype: object"
            ],
            "text/html": [
              "<div>\n",
              "<style scoped>\n",
              "    .dataframe tbody tr th:only-of-type {\n",
              "        vertical-align: middle;\n",
              "    }\n",
              "\n",
              "    .dataframe tbody tr th {\n",
              "        vertical-align: top;\n",
              "    }\n",
              "\n",
              "    .dataframe thead th {\n",
              "        text-align: right;\n",
              "    }\n",
              "</style>\n",
              "<table border=\"1\" class=\"dataframe\">\n",
              "  <thead>\n",
              "    <tr style=\"text-align: right;\">\n",
              "      <th></th>\n",
              "      <th>0</th>\n",
              "    </tr>\n",
              "  </thead>\n",
              "  <tbody>\n",
              "    <tr>\n",
              "      <th>num_passengers</th>\n",
              "      <td>79562</td>\n",
              "    </tr>\n",
              "    <tr>\n",
              "      <th>sales_channel</th>\n",
              "      <td>InternetInternetInternetInternetInternetIntern...</td>\n",
              "    </tr>\n",
              "    <tr>\n",
              "      <th>trip_type</th>\n",
              "      <td>RoundTripRoundTripRoundTripRoundTripRoundTripR...</td>\n",
              "    </tr>\n",
              "    <tr>\n",
              "      <th>purchase_lead</th>\n",
              "      <td>4247024</td>\n",
              "    </tr>\n",
              "    <tr>\n",
              "      <th>length_of_stay</th>\n",
              "      <td>1152228</td>\n",
              "    </tr>\n",
              "    <tr>\n",
              "      <th>flight_hour</th>\n",
              "      <td>453317</td>\n",
              "    </tr>\n",
              "    <tr>\n",
              "      <th>flight_day</th>\n",
              "      <td>SatSatWedSatWedThuThuMonMonSunTueSatMonFriTueT...</td>\n",
              "    </tr>\n",
              "    <tr>\n",
              "      <th>route</th>\n",
              "      <td>AKLDELAKLDELAKLDELAKLDELAKLDELAKLDELAKLDELAKLD...</td>\n",
              "    </tr>\n",
              "    <tr>\n",
              "      <th>booking_origin</th>\n",
              "      <td>New ZealandNew ZealandIndiaNew ZealandIndiaNew...</td>\n",
              "    </tr>\n",
              "    <tr>\n",
              "      <th>wants_extra_baggage</th>\n",
              "      <td>33439</td>\n",
              "    </tr>\n",
              "    <tr>\n",
              "      <th>wants_preferred_seat</th>\n",
              "      <td>14848</td>\n",
              "    </tr>\n",
              "    <tr>\n",
              "      <th>wants_in_flight_meals</th>\n",
              "      <td>21357</td>\n",
              "    </tr>\n",
              "    <tr>\n",
              "      <th>flight_duration</th>\n",
              "      <td>363878.04</td>\n",
              "    </tr>\n",
              "    <tr>\n",
              "      <th>booking_complete</th>\n",
              "      <td>7478</td>\n",
              "    </tr>\n",
              "  </tbody>\n",
              "</table>\n",
              "</div><br><label><b>dtype:</b> object</label>"
            ]
          },
          "metadata": {},
          "execution_count": 11
        }
      ]
    },
    {
      "cell_type": "markdown",
      "metadata": {
        "id": "mNUlufeMnbQv"
      },
      "source": [
        "### Encoding the categorical columns\n"
      ]
    },
    {
      "cell_type": "code",
      "source": [
        "LE = LabelEncoder()\n",
        "categorical_columns = ['sales_channel','trip_type','route','booking_origin','flight_day']\n",
        "encoded = {}\n",
        "for col in categorical_columns:\n",
        "    df[col] = LE.fit_transform(df[col])\n",
        "    encoded[col] = dict(zip(LE.classes_,LE.transform(LE.classes_)))\n",
        "    print(f\"Encoded maps for cols :{col}\",encoded[col])\n"
      ],
      "metadata": {
        "colab": {
          "base_uri": "https://localhost:8080/"
        },
        "id": "G-MknRjMsiPL",
        "outputId": "ed23b78a-ecff-47c7-ea47-063136ec6bf4"
      },
      "execution_count": 12,
      "outputs": [
        {
          "output_type": "stream",
          "name": "stdout",
          "text": [
            "Encoded maps for cols :sales_channel {'Internet': np.int64(0), 'Mobile': np.int64(1)}\n",
            "Encoded maps for cols :trip_type {'CircleTrip': np.int64(0), 'OneWay': np.int64(1), 'RoundTrip': np.int64(2)}\n",
            "Encoded maps for cols :route {'AKLDEL': np.int64(0), 'AKLHGH': np.int64(1), 'AKLHND': np.int64(2), 'AKLICN': np.int64(3), 'AKLKIX': np.int64(4), 'AKLKTM': np.int64(5), 'AKLKUL': np.int64(6), 'AKLMRU': np.int64(7), 'AKLPEK': np.int64(8), 'AKLPVG': np.int64(9), 'AKLTPE': np.int64(10), 'AORICN': np.int64(11), 'AORKIX': np.int64(12), 'AORKTM': np.int64(13), 'AORMEL': np.int64(14), 'AORPER': np.int64(15), 'AORPUS': np.int64(16), 'BBIMEL': np.int64(17), 'BBIOOL': np.int64(18), 'BBIPER': np.int64(19), 'BBISYD': np.int64(20), 'BDOCTS': np.int64(21), 'BDOCTU': np.int64(22), 'BDOHGH': np.int64(23), 'BDOICN': np.int64(24), 'BDOIKA': np.int64(25), 'BDOKIX': np.int64(26), 'BDOMEL': np.int64(27), 'BDOOOL': np.int64(28), 'BDOPEK': np.int64(29), 'BDOPER': np.int64(30), 'BDOPUS': np.int64(31), 'BDOPVG': np.int64(32), 'BDOSYD': np.int64(33), 'BDOTPE': np.int64(34), 'BDOWUH': np.int64(35), 'BDOXIY': np.int64(36), 'BKICKG': np.int64(37), 'BKICTS': np.int64(38), 'BKICTU': np.int64(39), 'BKIDEL': np.int64(40), 'BKIHND': np.int64(41), 'BKIICN': np.int64(42), 'BKIKIX': np.int64(43), 'BKIKTM': np.int64(44), 'BKIMEL': np.int64(45), 'BKIMRU': np.int64(46), 'BKIOOL': np.int64(47), 'BKIPEK': np.int64(48), 'BKIPER': np.int64(49), 'BKIPUS': np.int64(50), 'BKIPVG': np.int64(51), 'BKISYD': np.int64(52), 'BKIXIY': np.int64(53), 'BLRICN': np.int64(54), 'BLRMEL': np.int64(55), 'BLRPER': np.int64(56), 'BLRSYD': np.int64(57), 'BOMMEL': np.int64(58), 'BOMOOL': np.int64(59), 'BOMPER': np.int64(60), 'BOMSYD': np.int64(61), 'BTJJED': np.int64(62), 'BTUCKG': np.int64(63), 'BTUICN': np.int64(64), 'BTUPER': np.int64(65), 'BTUSYD': np.int64(66), 'BTUWUH': np.int64(67), 'BWNCKG': np.int64(68), 'BWNDEL': np.int64(69), 'BWNHGH': np.int64(70), 'BWNIKA': np.int64(71), 'BWNKTM': np.int64(72), 'BWNMEL': np.int64(73), 'BWNOOL': np.int64(74), 'BWNPER': np.int64(75), 'BWNSYD': np.int64(76), 'BWNTPE': np.int64(77), 'BWNWUH': np.int64(78), 'CANDEL': np.int64(79), 'CANIKA': np.int64(80), 'CANMEL': np.int64(81), 'CANMRU': np.int64(82), 'CANOOL': np.int64(83), 'CANPER': np.int64(84), 'CANSYD': np.int64(85), 'CCUMEL': np.int64(86), 'CCUMRU': np.int64(87), 'CCUOOL': np.int64(88), 'CCUPER': np.int64(89), 'CCUSYD': np.int64(90), 'CCUTPE': np.int64(91), 'CEBMEL': np.int64(92), 'CEBOOL': np.int64(93), 'CEBPER': np.int64(94), 'CEBSYD': np.int64(95), 'CGKCKG': np.int64(96), 'CGKCTS': np.int64(97), 'CGKCTU': np.int64(98), 'CGKDEL': np.int64(99), 'CGKHGH': np.int64(100), 'CGKHND': np.int64(101), 'CGKICN': np.int64(102), 'CGKIKA': np.int64(103), 'CGKJED': np.int64(104), 'CGKKIX': np.int64(105), 'CGKKTM': np.int64(106), 'CGKMEL': np.int64(107), 'CGKMRU': np.int64(108), 'CGKOOL': np.int64(109), 'CGKPEK': np.int64(110), 'CGKPER': np.int64(111), 'CGKPUS': np.int64(112), 'CGKPVG': np.int64(113), 'CGKSYD': np.int64(114), 'CGKTPE': np.int64(115), 'CGKWUH': np.int64(116), 'CGKXIY': np.int64(117), 'CKGCOK': np.int64(118), 'CKGDPS': np.int64(119), 'CKGHKT': np.int64(120), 'CKGJHB': np.int64(121), 'CKGKCH': np.int64(122), 'CKGKNO': np.int64(123), 'CKGLGK': np.int64(124), 'CKGLOP': np.int64(125), 'CKGMAA': np.int64(126), 'CKGMEL': np.int64(127), 'CKGMRU': np.int64(128), 'CKGMYY': np.int64(129), 'CKGOOL': np.int64(130), 'CKGPEN': np.int64(131), 'CKGPER': np.int64(132), 'CKGPNH': np.int64(133), 'CKGSBW': np.int64(134), 'CKGSGN': np.int64(135), 'CKGSIN': np.int64(136), 'CKGSUB': np.int64(137), 'CKGSYD': np.int64(138), 'CKGTGG': np.int64(139), 'CKGTRZ': np.int64(140), 'CKGTWU': np.int64(141), 'CMBCTS': np.int64(142), 'CMBCTU': np.int64(143), 'CMBHGH': np.int64(144), 'CMBHND': np.int64(145), 'CMBICN': np.int64(146), 'CMBKIX': np.int64(147), 'CMBMEL': np.int64(148), 'CMBMRU': np.int64(149), 'CMBOOL': np.int64(150), 'CMBPEK': np.int64(151), 'CMBPER': np.int64(152), 'CMBPVG': np.int64(153), 'CMBSYD': np.int64(154), 'CMBWUH': np.int64(155), 'CNXDEL': np.int64(156), 'CNXHND': np.int64(157), 'CNXICN': np.int64(158), 'CNXKIX': np.int64(159), 'CNXMEL': np.int64(160), 'CNXOOL': np.int64(161), 'CNXPEK': np.int64(162), 'CNXPER': np.int64(163), 'CNXPUS': np.int64(164), 'CNXPVG': np.int64(165), 'CNXSYD': np.int64(166), 'CNXTPE': np.int64(167), 'CNXXIY': np.int64(168), 'COKCTS': np.int64(169), 'COKCTU': np.int64(170), 'COKHGH': np.int64(171), 'COKICN': np.int64(172), 'COKKIX': np.int64(173), 'COKMEL': np.int64(174), 'COKOOL': np.int64(175), 'COKPER': np.int64(176), 'COKPUS': np.int64(177), 'COKSYD': np.int64(178), 'COKTPE': np.int64(179), 'COKWUH': np.int64(180), 'CRKMEL': np.int64(181), 'CRKOOL': np.int64(182), 'CRKSYD': np.int64(183), 'CSXMRU': np.int64(184), 'CSXPER': np.int64(185), 'CSXSYD': np.int64(186), 'CTSDMK': np.int64(187), 'CTSDPS': np.int64(188), 'CTSHKT': np.int64(189), 'CTSJHB': np.int64(190), 'CTSJOG': np.int64(191), 'CTSKBR': np.int64(192), 'CTSKCH': np.int64(193), 'CTSKNO': np.int64(194), 'CTSLGK': np.int64(195), 'CTSMEL': np.int64(196), 'CTSMYY': np.int64(197), 'CTSOOL': np.int64(198), 'CTSPEN': np.int64(199), 'CTSPER': np.int64(200), 'CTSSBW': np.int64(201), 'CTSSGN': np.int64(202), 'CTSSIN': np.int64(203), 'CTSSUB': np.int64(204), 'CTSSYD': np.int64(205), 'CTUDMK': np.int64(206), 'CTUDPS': np.int64(207), 'CTUHKT': np.int64(208), 'CTUIKA': np.int64(209), 'CTUJHB': np.int64(210), 'CTUKBR': np.int64(211), 'CTUKBV': np.int64(212), 'CTUKCH': np.int64(213), 'CTUKNO': np.int64(214), 'CTULGK': np.int64(215), 'CTULOP': np.int64(216), 'CTUMAA': np.int64(217), 'CTUMEL': np.int64(218), 'CTUMLE': np.int64(219), 'CTUMRU': np.int64(220), 'CTUMYY': np.int64(221), 'CTUOOL': np.int64(222), 'CTUPEN': np.int64(223), 'CTUPER': np.int64(224), 'CTUREP': np.int64(225), 'CTUSBW': np.int64(226), 'CTUSGN': np.int64(227), 'CTUSIN': np.int64(228), 'CTUSRG': np.int64(229), 'CTUSUB': np.int64(230), 'CTUSYD': np.int64(231), 'CTUTGG': np.int64(232), 'CTUTRZ': np.int64(233), 'CTUTWU': np.int64(234), 'CTUURT': np.int64(235), 'CXRMEL': np.int64(236), 'DACHGH': np.int64(237), 'DACHND': np.int64(238), 'DACICN': np.int64(239), 'DACKIX': np.int64(240), 'DACMEL': np.int64(241), 'DACMRU': np.int64(242), 'DACOOL': np.int64(243), 'DACPEK': np.int64(244), 'DACPER': np.int64(245), 'DACPUS': np.int64(246), 'DACSYD': np.int64(247), 'DACTPE': np.int64(248), 'DADMEL': np.int64(249), 'DADOOL': np.int64(250), 'DADSYD': np.int64(251), 'DELDMK': np.int64(252), 'DELDPS': np.int64(253), 'DELHKG': np.int64(254), 'DELHKT': np.int64(255), 'DELHND': np.int64(256), 'DELJHB': np.int64(257), 'DELJOG': np.int64(258), 'DELKBR': np.int64(259), 'DELKBV': np.int64(260), 'DELKCH': np.int64(261), 'DELKIX': np.int64(262), 'DELKNO': np.int64(263), 'DELLGK': np.int64(264), 'DELMEL': np.int64(265), 'DELMFM': np.int64(266), 'DELMNL': np.int64(267), 'DELMRU': np.int64(268), 'DELMYY': np.int64(269), 'DELOOL': np.int64(270), 'DELPEN': np.int64(271), 'DELPER': np.int64(272), 'DELPNH': np.int64(273), 'DELREP': np.int64(274), 'DELRGN': np.int64(275), 'DELSBW': np.int64(276), 'DELSGN': np.int64(277), 'DELSIN': np.int64(278), 'DELSUB': np.int64(279), 'DELSYD': np.int64(280), 'DELSZX': np.int64(281), 'DELURT': np.int64(282), 'DMKHGH': np.int64(283), 'DMKHND': np.int64(284), 'DMKICN': np.int64(285), 'DMKIKA': np.int64(286), 'DMKKIX': np.int64(287), 'DMKKTM': np.int64(288), 'DMKMEL': np.int64(289), 'DMKMRU': np.int64(290), 'DMKOOL': np.int64(291), 'DMKPEK': np.int64(292), 'DMKPER': np.int64(293), 'DMKPUS': np.int64(294), 'DMKPVG': np.int64(295), 'DMKSYD': np.int64(296), 'DMKTPE': np.int64(297), 'DPSHGH': np.int64(298), 'DPSHND': np.int64(299), 'DPSICN': np.int64(300), 'DPSIKA': np.int64(301), 'DPSKIX': np.int64(302), 'DPSKTM': np.int64(303), 'DPSMEL': np.int64(304), 'DPSMRU': np.int64(305), 'DPSOOL': np.int64(306), 'DPSPEK': np.int64(307), 'DPSPUS': np.int64(308), 'DPSPVG': np.int64(309), 'DPSSYD': np.int64(310), 'DPSTPE': np.int64(311), 'DPSWUH': np.int64(312), 'DPSXIY': np.int64(313), 'GOIKUL': np.int64(314), 'GOIMEL': np.int64(315), 'GOIOOL': np.int64(316), 'GOIPER': np.int64(317), 'GOISYD': np.int64(318), 'HANKTM': np.int64(319), 'HANMEL': np.int64(320), 'HANOOL': np.int64(321), 'HANPER': np.int64(322), 'HANSYD': np.int64(323), 'HDYHGH': np.int64(324), 'HDYKIX': np.int64(325), 'HDYKTM': np.int64(326), 'HDYMEL': np.int64(327), 'HDYOOL': np.int64(328), 'HDYPEK': np.int64(329), 'HDYPER': np.int64(330), 'HDYPVG': np.int64(331), 'HDYSYD': np.int64(332), 'HDYTPE': np.int64(333), 'HDYXIY': np.int64(334), 'HGHHKT': np.int64(335), 'HGHJHB': np.int64(336), 'HGHJOG': np.int64(337), 'HGHKBR': np.int64(338), 'HGHKBV': np.int64(339), 'HGHKCH': np.int64(340), 'HGHKNO': np.int64(341), 'HGHLGK': np.int64(342), 'HGHLOP': np.int64(343), 'HGHMAA': np.int64(344), 'HGHMEL': np.int64(345), 'HGHMRU': np.int64(346), 'HGHMYY': np.int64(347), 'HGHOOL': np.int64(348), 'HGHPEN': np.int64(349), 'HGHPER': np.int64(350), 'HGHSBW': np.int64(351), 'HGHSGN': np.int64(352), 'HGHSIN': np.int64(353), 'HGHSUB': np.int64(354), 'HGHSYD': np.int64(355), 'HGHTGG': np.int64(356), 'HGHTRZ': np.int64(357), 'HGHTWU': np.int64(358), 'HKGIKA': np.int64(359), 'HKGJED': np.int64(360), 'HKGKTM': np.int64(361), 'HKGMEL': np.int64(362), 'HKGMRU': np.int64(363), 'HKGOOL': np.int64(364), 'HKGPER': np.int64(365), 'HKGSYD': np.int64(366), 'HKTHND': np.int64(367), 'HKTICN': np.int64(368), 'HKTIKA': np.int64(369), 'HKTJED': np.int64(370), 'HKTKIX': np.int64(371), 'HKTKTM': np.int64(372), 'HKTMEL': np.int64(373), 'HKTMRU': np.int64(374), 'HKTOOL': np.int64(375), 'HKTPEK': np.int64(376), 'HKTPER': np.int64(377), 'HKTPUS': np.int64(378), 'HKTPVG': np.int64(379), 'HKTSYD': np.int64(380), 'HKTTPE': np.int64(381), 'HKTWUH': np.int64(382), 'HKTXIY': np.int64(383), 'HNDIKA': np.int64(384), 'HNDJOG': np.int64(385), 'HNDKBR': np.int64(386), 'HNDKBV': np.int64(387), 'HNDKCH': np.int64(388), 'HNDKNO': np.int64(389), 'HNDKTM': np.int64(390), 'HNDLGK': np.int64(391), 'HNDLOP': np.int64(392), 'HNDMAA': np.int64(393), 'HNDMEL': np.int64(394), 'HNDMLE': np.int64(395), 'HNDOOL': np.int64(396), 'HNDPEN': np.int64(397), 'HNDPER': np.int64(398), 'HNDPNH': np.int64(399), 'HNDREP': np.int64(400), 'HNDRGN': np.int64(401), 'HNDSBW': np.int64(402), 'HNDSGN': np.int64(403), 'HNDSIN': np.int64(404), 'HNDSUB': np.int64(405), 'HNDSYD': np.int64(406), 'HNDTRZ': np.int64(407), 'HYDMEL': np.int64(408), 'HYDMRU': np.int64(409), 'HYDOOL': np.int64(410), 'HYDPER': np.int64(411), 'HYDSYD': np.int64(412), 'HYDWUH': np.int64(413), 'ICNIKA': np.int64(414), 'ICNJED': np.int64(415), 'ICNJHB': np.int64(416), 'ICNKBR': np.int64(417), 'ICNKBV': np.int64(418), 'ICNKCH': np.int64(419), 'ICNKNO': np.int64(420), 'ICNKTM': np.int64(421), 'ICNLGK': np.int64(422), 'ICNMAA': np.int64(423), 'ICNMEL': np.int64(424), 'ICNMLE': np.int64(425), 'ICNMRU': np.int64(426), 'ICNMYY': np.int64(427), 'ICNOOL': np.int64(428), 'ICNPEN': np.int64(429), 'ICNPER': np.int64(430), 'ICNREP': np.int64(431), 'ICNRGN': np.int64(432), 'ICNSBW': np.int64(433), 'ICNSDK': np.int64(434), 'ICNSGN': np.int64(435), 'ICNSIN': np.int64(436), 'ICNSUB': np.int64(437), 'ICNSYD': np.int64(438), 'ICNTGG': np.int64(439), 'ICNTRZ': np.int64(440), 'ICNVTE': np.int64(441), 'ICNVTZ': np.int64(442), 'IKAKCH': np.int64(443), 'IKAKIX': np.int64(444), 'IKALOP': np.int64(445), 'IKAMEL': np.int64(446), 'IKAMFM': np.int64(447), 'IKAMNL': np.int64(448), 'IKAOOL': np.int64(449), 'IKAPEK': np.int64(450), 'IKAPEN': np.int64(451), 'IKAPER': np.int64(452), 'IKAPUS': np.int64(453), 'IKAPVG': np.int64(454), 'IKASGN': np.int64(455), 'IKASIN': np.int64(456), 'IKASUB': np.int64(457), 'IKASYD': np.int64(458), 'IKASZX': np.int64(459), 'IKATPE': np.int64(460), 'JEDJOG': np.int64(461), 'JEDKNO': np.int64(462), 'JEDMEL': np.int64(463), 'JEDMFM': np.int64(464), 'JEDMNL': np.int64(465), 'JEDPDG': np.int64(466), 'JEDPEN': np.int64(467), 'JEDSUB': np.int64(468), 'JHBKIX': np.int64(469), 'JHBKTM': np.int64(470), 'JHBMEL': np.int64(471), 'JHBMRU': np.int64(472), 'JHBOOL': np.int64(473), 'JHBPEK': np.int64(474), 'JHBPUS': np.int64(475), 'JHBPVG': np.int64(476), 'JHBSYD': np.int64(477), 'JHBTPE': np.int64(478), 'JHBWUH': np.int64(479), 'JHBXIY': np.int64(480), 'JOGKIX': np.int64(481), 'JOGKTM': np.int64(482), 'JOGMEL': np.int64(483), 'JOGOOL': np.int64(484), 'JOGPER': np.int64(485), 'JOGPVG': np.int64(486), 'JOGSYD': np.int64(487), 'JOGTPE': np.int64(488), 'KBRKIX': np.int64(489), 'KBRKTM': np.int64(490), 'KBRMEL': np.int64(491), 'KBROOL': np.int64(492), 'KBRPEK': np.int64(493), 'KBRPER': np.int64(494), 'KBRPUS': np.int64(495), 'KBRPVG': np.int64(496), 'KBRSYD': np.int64(497), 'KBRTPE': np.int64(498), 'KBRWUH': np.int64(499), 'KBRXIY': np.int64(500), 'KBVKIX': np.int64(501), 'KBVKTM': np.int64(502), 'KBVMEL': np.int64(503), 'KBVOOL': np.int64(504), 'KBVPEK': np.int64(505), 'KBVPER': np.int64(506), 'KBVPUS': np.int64(507), 'KBVPVG': np.int64(508), 'KBVSYD': np.int64(509), 'KBVTPE': np.int64(510), 'KBVWUH': np.int64(511), 'KBVXIY': np.int64(512), 'KCHKIX': np.int64(513), 'KCHKTM': np.int64(514), 'KCHMEL': np.int64(515), 'KCHMRU': np.int64(516), 'KCHOOL': np.int64(517), 'KCHPEK': np.int64(518), 'KCHPER': np.int64(519), 'KCHPUS': np.int64(520), 'KCHPVG': np.int64(521), 'KCHSYD': np.int64(522), 'KCHTPE': np.int64(523), 'KCHWUH': np.int64(524), 'KCHXIY': np.int64(525), 'KHHMEL': np.int64(526), 'KHHOOL': np.int64(527), 'KHHPER': np.int64(528), 'KHHSYD': np.int64(529), 'KIXKNO': np.int64(530), 'KIXKTM': np.int64(531), 'KIXLBU': np.int64(532), 'KIXLGK': np.int64(533), 'KIXLOP': np.int64(534), 'KIXLPQ': np.int64(535), 'KIXMAA': np.int64(536), 'KIXMEL': np.int64(537), 'KIXMLE': np.int64(538), 'KIXMRU': np.int64(539), 'KIXMYY': np.int64(540), 'KIXOOL': np.int64(541), 'KIXPEN': np.int64(542), 'KIXPER': np.int64(543), 'KIXPNH': np.int64(544), 'KIXREP': np.int64(545), 'KIXRGN': np.int64(546), 'KIXSBW': np.int64(547), 'KIXSGN': np.int64(548), 'KIXSIN': np.int64(549), 'KIXSUB': np.int64(550), 'KIXSYD': np.int64(551), 'KIXTGG': np.int64(552), 'KIXTRZ': np.int64(553), 'KIXTWU': np.int64(554), 'KLOMEL': np.int64(555), 'KLOOOL': np.int64(556), 'KLOSYD': np.int64(557), 'KNOKTM': np.int64(558), 'KNOMEL': np.int64(559), 'KNOOOL': np.int64(560), 'KNOPEK': np.int64(561), 'KNOPER': np.int64(562), 'KNOPUS': np.int64(563), 'KNOPVG': np.int64(564), 'KNOSYD': np.int64(565), 'KNOTPE': np.int64(566), 'KNOWUH': np.int64(567), 'KNOXIY': np.int64(568), 'KOSMEL': np.int64(569), 'KOSOOL': np.int64(570), 'KOSPEK': np.int64(571), 'KOSSYD': np.int64(572), 'KTMMEL': np.int64(573), 'KTMMFM': np.int64(574), 'KTMMYY': np.int64(575), 'KTMPEN': np.int64(576), 'KTMPER': np.int64(577), 'KTMREP': np.int64(578), 'KTMSGN': np.int64(579), 'KTMSIN': np.int64(580), 'KTMSUB': np.int64(581), 'KTMSYD': np.int64(582), 'KTMTGG': np.int64(583), 'KTMTPE': np.int64(584), 'KTMTWU': np.int64(585), 'KTMURT': np.int64(586), 'KWLPER': np.int64(587), 'LBUPER': np.int64(588), 'LBUTPE': np.int64(589), 'LGKMEL': np.int64(590), 'LGKOOL': np.int64(591), 'LGKPEK': np.int64(592), 'LGKPER': np.int64(593), 'LGKPUS': np.int64(594), 'LGKPVG': np.int64(595), 'LGKSYD': np.int64(596), 'LGKTPE': np.int64(597), 'LGKWUH': np.int64(598), 'LGKXIY': np.int64(599), 'LOPOOL': np.int64(600), 'LOPPEK': np.int64(601), 'LOPPER': np.int64(602), 'LOPPVG': np.int64(603), 'LOPSYD': np.int64(604), 'LOPTPE': np.int64(605), 'LOPXIY': np.int64(606), 'LPQMEL': np.int64(607), 'LPQOOL': np.int64(608), 'LPQPER': np.int64(609), 'LPQTPE': np.int64(610), 'MAAMEL': np.int64(611), 'MAAMRU': np.int64(612), 'MAAOOL': np.int64(613), 'MAAPER': np.int64(614), 'MAAPVG': np.int64(615), 'MAASYD': np.int64(616), 'MAATPE': np.int64(617), 'MAAWUH': np.int64(618), 'MELMFM': np.int64(619), 'MELMLE': np.int64(620), 'MELMNL': np.int64(621), 'MELMRU': np.int64(622), 'MELMYY': np.int64(623), 'MELNRT': np.int64(624), 'MELPEK': np.int64(625), 'MELPEN': np.int64(626), 'MELPNH': np.int64(627), 'MELPUS': np.int64(628), 'MELPVG': np.int64(629), 'MELREP': np.int64(630), 'MELRGN': np.int64(631), 'MELSBW': np.int64(632), 'MELSGN': np.int64(633), 'MELSIN': np.int64(634), 'MELSUB': np.int64(635), 'MELSWA': np.int64(636), 'MELSZX': np.int64(637), 'MELTGG': np.int64(638), 'MELTPE': np.int64(639), 'MELTRZ': np.int64(640), 'MELTWU': np.int64(641), 'MELURT': np.int64(642), 'MELUTP': np.int64(643), 'MELVTE': np.int64(644), 'MELVTZ': np.int64(645), 'MELWUH': np.int64(646), 'MELXIY': np.int64(647), 'MFMOOL': np.int64(648), 'MFMPER': np.int64(649), 'MFMSYD': np.int64(650), 'MLEOOL': np.int64(651), 'MLEPEK': np.int64(652), 'MLEPER': np.int64(653), 'MLEPVG': np.int64(654), 'MLESYD': np.int64(655), 'MLETPE': np.int64(656), 'MNLMRU': np.int64(657), 'MNLOOL': np.int64(658), 'MNLPER': np.int64(659), 'MNLSYD': np.int64(660), 'MRUOOL': np.int64(661), 'MRUPEK': np.int64(662), 'MRUPEN': np.int64(663), 'MRUPER': np.int64(664), 'MRUPVG': np.int64(665), 'MRUSGN': np.int64(666), 'MRUSIN': np.int64(667), 'MRUSUB': np.int64(668), 'MRUSYD': np.int64(669), 'MRUSZX': np.int64(670), 'MRUTPE': np.int64(671), 'MRUXIY': np.int64(672), 'MYYOOL': np.int64(673), 'MYYPER': np.int64(674), 'MYYPUS': np.int64(675), 'MYYSYD': np.int64(676), 'MYYXIY': np.int64(677), 'NRTSYD': np.int64(678), 'OOLPEK': np.int64(679), 'OOLPEN': np.int64(680), 'OOLPNH': np.int64(681), 'OOLPUS': np.int64(682), 'OOLPVG': np.int64(683), 'OOLREP': np.int64(684), 'OOLRGN': np.int64(685), 'OOLSBW': np.int64(686), 'OOLSDK': np.int64(687), 'OOLSGN': np.int64(688), 'OOLSIN': np.int64(689), 'OOLSUB': np.int64(690), 'OOLSZX': np.int64(691), 'OOLTGG': np.int64(692), 'OOLTPE': np.int64(693), 'OOLTRZ': np.int64(694), 'OOLTWU': np.int64(695), 'OOLURT': np.int64(696), 'OOLUTP': np.int64(697), 'OOLVTE': np.int64(698), 'OOLWUH': np.int64(699), 'OOLXIY': np.int64(700), 'PEKPEN': np.int64(701), 'PEKPER': np.int64(702), 'PEKREP': np.int64(703), 'PEKRGN': np.int64(704), 'PEKSBW': np.int64(705), 'PEKSGN': np.int64(706), 'PEKSIN': np.int64(707), 'PEKSUB': np.int64(708), 'PEKSYD': np.int64(709), 'PEKTGG': np.int64(710), 'PEKTRZ': np.int64(711), 'PEKTWU': np.int64(712), 'PENPER': np.int64(713), 'PENPUS': np.int64(714), 'PENPVG': np.int64(715), 'PENSYD': np.int64(716), 'PENTPE': np.int64(717), 'PENWUH': np.int64(718), 'PENXIY': np.int64(719), 'PERPNH': np.int64(720), 'PERPUS': np.int64(721), 'PERPVG': np.int64(722), 'PERREP': np.int64(723), 'PERRGN': np.int64(724), 'PERSBW': np.int64(725), 'PERSDK': np.int64(726), 'PERSGN': np.int64(727), 'PERSIN': np.int64(728), 'PERSUB': np.int64(729), 'PERSWA': np.int64(730), 'PERSZX': np.int64(731), 'PERTGG': np.int64(732), 'PERTPE': np.int64(733), 'PERTRZ': np.int64(734), 'PERTWU': np.int64(735), 'PERUTP': np.int64(736), 'PERVTE': np.int64(737), 'PERVTZ': np.int64(738), 'PERWUH': np.int64(739), 'PERXIY': np.int64(740), 'PNHSYD': np.int64(741), 'PNHTPE': np.int64(742), 'PNKTPE': np.int64(743), 'PUSRGN': np.int64(744), 'PUSSBW': np.int64(745), 'PUSSGN': np.int64(746), 'PUSSIN': np.int64(747), 'PUSSUB': np.int64(748), 'PUSSYD': np.int64(749), 'PUSTRZ': np.int64(750), 'PVGREP': np.int64(751), 'PVGRGN': np.int64(752), 'PVGSGN': np.int64(753), 'PVGSIN': np.int64(754), 'PVGSUB': np.int64(755), 'PVGSYD': np.int64(756), 'PVGTGG': np.int64(757), 'PVGTWU': np.int64(758), 'PVGURT': np.int64(759), 'REPSYD': np.int64(760), 'REPTPE': np.int64(761), 'RGNSYD': np.int64(762), 'RGNTPE': np.int64(763), 'SBWSYD': np.int64(764), 'SBWTPE': np.int64(765), 'SBWWUH': np.int64(766), 'SBWXIY': np.int64(767), 'SDKSYD': np.int64(768), 'SDKTPE': np.int64(769), 'SGNSYD': np.int64(770), 'SGNXIY': np.int64(771), 'SINSYD': np.int64(772), 'SINTPE': np.int64(773), 'SINWUH': np.int64(774), 'SINXIY': np.int64(775), 'SRGTPE': np.int64(776), 'SUBSYD': np.int64(777), 'SUBTPE': np.int64(778), 'SUBWUH': np.int64(779), 'SUBXIY': np.int64(780), 'SYDSZX': np.int64(781), 'SYDTPE': np.int64(782), 'SYDTRZ': np.int64(783), 'SYDTWU': np.int64(784), 'SYDVTE': np.int64(785), 'SYDVTZ': np.int64(786), 'SYDXIY': np.int64(787), 'TGGTPE': np.int64(788), 'TGGXIY': np.int64(789), 'TPETRZ': np.int64(790), 'TPETWU': np.int64(791), 'TPEURT': np.int64(792), 'TPEVTE': np.int64(793), 'TRZWUH': np.int64(794), 'TRZXIY': np.int64(795), 'TWUWUH': np.int64(796), 'TWUXIY': np.int64(797), 'URTXIY': np.int64(798)}\n",
            "Encoded maps for cols :booking_origin {'(not set)': np.int64(0), 'Afghanistan': np.int64(1), 'Algeria': np.int64(2), 'Argentina': np.int64(3), 'Australia': np.int64(4), 'Austria': np.int64(5), 'Bahrain': np.int64(6), 'Bangladesh': np.int64(7), 'Belarus': np.int64(8), 'Belgium': np.int64(9), 'Bhutan': np.int64(10), 'Brazil': np.int64(11), 'Brunei': np.int64(12), 'Bulgaria': np.int64(13), 'Cambodia': np.int64(14), 'Canada': np.int64(15), 'Chile': np.int64(16), 'China': np.int64(17), 'Colombia': np.int64(18), 'Croatia': np.int64(19), 'Cyprus': np.int64(20), 'Czech Republic': np.int64(21), 'Czechia': np.int64(22), 'Denmark': np.int64(23), 'Egypt': np.int64(24), 'Estonia': np.int64(25), 'Finland': np.int64(26), 'France': np.int64(27), 'Germany': np.int64(28), 'Ghana': np.int64(29), 'Gibraltar': np.int64(30), 'Greece': np.int64(31), 'Guam': np.int64(32), 'Guatemala': np.int64(33), 'Hong Kong': np.int64(34), 'Hungary': np.int64(35), 'India': np.int64(36), 'Indonesia': np.int64(37), 'Iran': np.int64(38), 'Iraq': np.int64(39), 'Ireland': np.int64(40), 'Israel': np.int64(41), 'Italy': np.int64(42), 'Japan': np.int64(43), 'Jordan': np.int64(44), 'Kazakhstan': np.int64(45), 'Kenya': np.int64(46), 'Kuwait': np.int64(47), 'Laos': np.int64(48), 'Lebanon': np.int64(49), 'Macau': np.int64(50), 'Malaysia': np.int64(51), 'Maldives': np.int64(52), 'Malta': np.int64(53), 'Mauritius': np.int64(54), 'Mexico': np.int64(55), 'Mongolia': np.int64(56), 'Myanmar (Burma)': np.int64(57), 'Nepal': np.int64(58), 'Netherlands': np.int64(59), 'New Caledonia': np.int64(60), 'New Zealand': np.int64(61), 'Nicaragua': np.int64(62), 'Norfolk Island': np.int64(63), 'Norway': np.int64(64), 'Oman': np.int64(65), 'Pakistan': np.int64(66), 'Panama': np.int64(67), 'Papua New Guinea': np.int64(68), 'Paraguay': np.int64(69), 'Peru': np.int64(70), 'Philippines': np.int64(71), 'Poland': np.int64(72), 'Portugal': np.int64(73), 'Qatar': np.int64(74), 'Romania': np.int64(75), 'Russia': np.int64(76), 'R\\x82union': np.int64(77), 'Saudi Arabia': np.int64(78), 'Seychelles': np.int64(79), 'Singapore': np.int64(80), 'Slovakia': np.int64(81), 'Slovenia': np.int64(82), 'Solomon Islands': np.int64(83), 'South Africa': np.int64(84), 'South Korea': np.int64(85), 'Spain': np.int64(86), 'Sri Lanka': np.int64(87), 'Svalbard & Jan Mayen': np.int64(88), 'Sweden': np.int64(89), 'Switzerland': np.int64(90), 'Taiwan': np.int64(91), 'Tanzania': np.int64(92), 'Thailand': np.int64(93), 'Timor-Leste': np.int64(94), 'Tonga': np.int64(95), 'Tunisia': np.int64(96), 'Turkey': np.int64(97), 'Ukraine': np.int64(98), 'United Arab Emirates': np.int64(99), 'United Kingdom': np.int64(100), 'United States': np.int64(101), 'Vanuatu': np.int64(102), 'Vietnam': np.int64(103)}\n",
            "Encoded maps for cols :flight_day {'Fri': np.int64(0), 'Mon': np.int64(1), 'Sat': np.int64(2), 'Sun': np.int64(3), 'Thu': np.int64(4), 'Tue': np.int64(5), 'Wed': np.int64(6)}\n"
          ]
        }
      ]
    },
    {
      "cell_type": "code",
      "source": [
        "df.info()# can see that all cols change or map into int(64).\n"
      ],
      "metadata": {
        "colab": {
          "base_uri": "https://localhost:8080/"
        },
        "id": "1-d-GO89scfu",
        "outputId": "b05dfda8-8852-4943-e4e2-33d8b943e680"
      },
      "execution_count": 13,
      "outputs": [
        {
          "output_type": "stream",
          "name": "stdout",
          "text": [
            "<class 'pandas.core.frame.DataFrame'>\n",
            "RangeIndex: 50000 entries, 0 to 49999\n",
            "Data columns (total 14 columns):\n",
            " #   Column                 Non-Null Count  Dtype  \n",
            "---  ------                 --------------  -----  \n",
            " 0   num_passengers         50000 non-null  int64  \n",
            " 1   sales_channel          50000 non-null  int64  \n",
            " 2   trip_type              50000 non-null  int64  \n",
            " 3   purchase_lead          50000 non-null  int64  \n",
            " 4   length_of_stay         50000 non-null  int64  \n",
            " 5   flight_hour            50000 non-null  int64  \n",
            " 6   flight_day             50000 non-null  int64  \n",
            " 7   route                  50000 non-null  int64  \n",
            " 8   booking_origin         50000 non-null  int64  \n",
            " 9   wants_extra_baggage    50000 non-null  int64  \n",
            " 10  wants_preferred_seat   50000 non-null  int64  \n",
            " 11  wants_in_flight_meals  50000 non-null  int64  \n",
            " 12  flight_duration        50000 non-null  float64\n",
            " 13  booking_complete       50000 non-null  int64  \n",
            "dtypes: float64(1), int64(13)\n",
            "memory usage: 5.3 MB\n"
          ]
        }
      ]
    },
    {
      "cell_type": "markdown",
      "source": [
        "### Now selecting our Features for model.\n"
      ],
      "metadata": {
        "id": "b0TpqbWPwMgt"
      }
    },
    {
      "cell_type": "code",
      "source": [
        "X =df.drop('booking_complete',axis=1)\n",
        "y= df['booking_complete']\n",
        "print(f'accuracy score : ',y.value_counts())"
      ],
      "metadata": {
        "colab": {
          "base_uri": "https://localhost:8080/"
        },
        "id": "HAyIvP54wMH-",
        "outputId": "a010e788-c75d-4e46-8d00-240edadba1b2"
      },
      "execution_count": 14,
      "outputs": [
        {
          "output_type": "stream",
          "name": "stdout",
          "text": [
            "accuracy score :  booking_complete\n",
            "0    42522\n",
            "1     7478\n",
            "Name: count, dtype: int64\n"
          ]
        }
      ]
    },
    {
      "cell_type": "code",
      "source": [
        "#Apply SMOTE to fix imbalance\n",
        "smote = SMOTE(random_state=42)\n",
        "X_resampled, y_resampled = smote.fit_resample(X, y)\n",
        "\n",
        "print(\"After SMOTE:\\n\", y_resampled.value_counts())\n"
      ],
      "metadata": {
        "colab": {
          "base_uri": "https://localhost:8080/"
        },
        "id": "kf_p1PsX32CY",
        "outputId": "f0c996f3-886a-4686-9f7d-7db48c3f403f"
      },
      "execution_count": 15,
      "outputs": [
        {
          "output_type": "stream",
          "name": "stdout",
          "text": [
            "After SMOTE:\n",
            " booking_complete\n",
            "0    42522\n",
            "1    42522\n",
            "Name: count, dtype: int64\n"
          ]
        }
      ]
    },
    {
      "cell_type": "markdown",
      "source": [
        "### Use randonforest model"
      ],
      "metadata": {
        "id": "9R1ABxJFxfBp"
      }
    },
    {
      "cell_type": "code",
      "source": [
        "#spliting Balanced data helped by smote for test and train (by train_test_split method)\n",
        "X_train,X_test,y_train,y_test =train_test_split(X_resampled,y_resampled,test_size=0.3,random_state=48)\n",
        "model = RandomForestClassifier(n_estimators=100,max_depth=10,class_weight='balanced',random_state=48)\n",
        "model.fit(X_train,y_train)\n"
      ],
      "metadata": {
        "colab": {
          "base_uri": "https://localhost:8080/",
          "height": 80
        },
        "id": "Fj8CSnMr3Zbd",
        "outputId": "b5ce0a5b-6ea9-4f94-963d-96ad2b0316e8"
      },
      "execution_count": 16,
      "outputs": [
        {
          "output_type": "execute_result",
          "data": {
            "text/plain": [
              "RandomForestClassifier(class_weight='balanced', max_depth=10, random_state=48)"
            ],
            "text/html": [
              "<style>#sk-container-id-1 {\n",
              "  /* Definition of color scheme common for light and dark mode */\n",
              "  --sklearn-color-text: #000;\n",
              "  --sklearn-color-text-muted: #666;\n",
              "  --sklearn-color-line: gray;\n",
              "  /* Definition of color scheme for unfitted estimators */\n",
              "  --sklearn-color-unfitted-level-0: #fff5e6;\n",
              "  --sklearn-color-unfitted-level-1: #f6e4d2;\n",
              "  --sklearn-color-unfitted-level-2: #ffe0b3;\n",
              "  --sklearn-color-unfitted-level-3: chocolate;\n",
              "  /* Definition of color scheme for fitted estimators */\n",
              "  --sklearn-color-fitted-level-0: #f0f8ff;\n",
              "  --sklearn-color-fitted-level-1: #d4ebff;\n",
              "  --sklearn-color-fitted-level-2: #b3dbfd;\n",
              "  --sklearn-color-fitted-level-3: cornflowerblue;\n",
              "\n",
              "  /* Specific color for light theme */\n",
              "  --sklearn-color-text-on-default-background: var(--sg-text-color, var(--theme-code-foreground, var(--jp-content-font-color1, black)));\n",
              "  --sklearn-color-background: var(--sg-background-color, var(--theme-background, var(--jp-layout-color0, white)));\n",
              "  --sklearn-color-border-box: var(--sg-text-color, var(--theme-code-foreground, var(--jp-content-font-color1, black)));\n",
              "  --sklearn-color-icon: #696969;\n",
              "\n",
              "  @media (prefers-color-scheme: dark) {\n",
              "    /* Redefinition of color scheme for dark theme */\n",
              "    --sklearn-color-text-on-default-background: var(--sg-text-color, var(--theme-code-foreground, var(--jp-content-font-color1, white)));\n",
              "    --sklearn-color-background: var(--sg-background-color, var(--theme-background, var(--jp-layout-color0, #111)));\n",
              "    --sklearn-color-border-box: var(--sg-text-color, var(--theme-code-foreground, var(--jp-content-font-color1, white)));\n",
              "    --sklearn-color-icon: #878787;\n",
              "  }\n",
              "}\n",
              "\n",
              "#sk-container-id-1 {\n",
              "  color: var(--sklearn-color-text);\n",
              "}\n",
              "\n",
              "#sk-container-id-1 pre {\n",
              "  padding: 0;\n",
              "}\n",
              "\n",
              "#sk-container-id-1 input.sk-hidden--visually {\n",
              "  border: 0;\n",
              "  clip: rect(1px 1px 1px 1px);\n",
              "  clip: rect(1px, 1px, 1px, 1px);\n",
              "  height: 1px;\n",
              "  margin: -1px;\n",
              "  overflow: hidden;\n",
              "  padding: 0;\n",
              "  position: absolute;\n",
              "  width: 1px;\n",
              "}\n",
              "\n",
              "#sk-container-id-1 div.sk-dashed-wrapped {\n",
              "  border: 1px dashed var(--sklearn-color-line);\n",
              "  margin: 0 0.4em 0.5em 0.4em;\n",
              "  box-sizing: border-box;\n",
              "  padding-bottom: 0.4em;\n",
              "  background-color: var(--sklearn-color-background);\n",
              "}\n",
              "\n",
              "#sk-container-id-1 div.sk-container {\n",
              "  /* jupyter's `normalize.less` sets `[hidden] { display: none; }`\n",
              "     but bootstrap.min.css set `[hidden] { display: none !important; }`\n",
              "     so we also need the `!important` here to be able to override the\n",
              "     default hidden behavior on the sphinx rendered scikit-learn.org.\n",
              "     See: https://github.com/scikit-learn/scikit-learn/issues/21755 */\n",
              "  display: inline-block !important;\n",
              "  position: relative;\n",
              "}\n",
              "\n",
              "#sk-container-id-1 div.sk-text-repr-fallback {\n",
              "  display: none;\n",
              "}\n",
              "\n",
              "div.sk-parallel-item,\n",
              "div.sk-serial,\n",
              "div.sk-item {\n",
              "  /* draw centered vertical line to link estimators */\n",
              "  background-image: linear-gradient(var(--sklearn-color-text-on-default-background), var(--sklearn-color-text-on-default-background));\n",
              "  background-size: 2px 100%;\n",
              "  background-repeat: no-repeat;\n",
              "  background-position: center center;\n",
              "}\n",
              "\n",
              "/* Parallel-specific style estimator block */\n",
              "\n",
              "#sk-container-id-1 div.sk-parallel-item::after {\n",
              "  content: \"\";\n",
              "  width: 100%;\n",
              "  border-bottom: 2px solid var(--sklearn-color-text-on-default-background);\n",
              "  flex-grow: 1;\n",
              "}\n",
              "\n",
              "#sk-container-id-1 div.sk-parallel {\n",
              "  display: flex;\n",
              "  align-items: stretch;\n",
              "  justify-content: center;\n",
              "  background-color: var(--sklearn-color-background);\n",
              "  position: relative;\n",
              "}\n",
              "\n",
              "#sk-container-id-1 div.sk-parallel-item {\n",
              "  display: flex;\n",
              "  flex-direction: column;\n",
              "}\n",
              "\n",
              "#sk-container-id-1 div.sk-parallel-item:first-child::after {\n",
              "  align-self: flex-end;\n",
              "  width: 50%;\n",
              "}\n",
              "\n",
              "#sk-container-id-1 div.sk-parallel-item:last-child::after {\n",
              "  align-self: flex-start;\n",
              "  width: 50%;\n",
              "}\n",
              "\n",
              "#sk-container-id-1 div.sk-parallel-item:only-child::after {\n",
              "  width: 0;\n",
              "}\n",
              "\n",
              "/* Serial-specific style estimator block */\n",
              "\n",
              "#sk-container-id-1 div.sk-serial {\n",
              "  display: flex;\n",
              "  flex-direction: column;\n",
              "  align-items: center;\n",
              "  background-color: var(--sklearn-color-background);\n",
              "  padding-right: 1em;\n",
              "  padding-left: 1em;\n",
              "}\n",
              "\n",
              "\n",
              "/* Toggleable style: style used for estimator/Pipeline/ColumnTransformer box that is\n",
              "clickable and can be expanded/collapsed.\n",
              "- Pipeline and ColumnTransformer use this feature and define the default style\n",
              "- Estimators will overwrite some part of the style using the `sk-estimator` class\n",
              "*/\n",
              "\n",
              "/* Pipeline and ColumnTransformer style (default) */\n",
              "\n",
              "#sk-container-id-1 div.sk-toggleable {\n",
              "  /* Default theme specific background. It is overwritten whether we have a\n",
              "  specific estimator or a Pipeline/ColumnTransformer */\n",
              "  background-color: var(--sklearn-color-background);\n",
              "}\n",
              "\n",
              "/* Toggleable label */\n",
              "#sk-container-id-1 label.sk-toggleable__label {\n",
              "  cursor: pointer;\n",
              "  display: flex;\n",
              "  width: 100%;\n",
              "  margin-bottom: 0;\n",
              "  padding: 0.5em;\n",
              "  box-sizing: border-box;\n",
              "  text-align: center;\n",
              "  align-items: start;\n",
              "  justify-content: space-between;\n",
              "  gap: 0.5em;\n",
              "}\n",
              "\n",
              "#sk-container-id-1 label.sk-toggleable__label .caption {\n",
              "  font-size: 0.6rem;\n",
              "  font-weight: lighter;\n",
              "  color: var(--sklearn-color-text-muted);\n",
              "}\n",
              "\n",
              "#sk-container-id-1 label.sk-toggleable__label-arrow:before {\n",
              "  /* Arrow on the left of the label */\n",
              "  content: \"▸\";\n",
              "  float: left;\n",
              "  margin-right: 0.25em;\n",
              "  color: var(--sklearn-color-icon);\n",
              "}\n",
              "\n",
              "#sk-container-id-1 label.sk-toggleable__label-arrow:hover:before {\n",
              "  color: var(--sklearn-color-text);\n",
              "}\n",
              "\n",
              "/* Toggleable content - dropdown */\n",
              "\n",
              "#sk-container-id-1 div.sk-toggleable__content {\n",
              "  max-height: 0;\n",
              "  max-width: 0;\n",
              "  overflow: hidden;\n",
              "  text-align: left;\n",
              "  /* unfitted */\n",
              "  background-color: var(--sklearn-color-unfitted-level-0);\n",
              "}\n",
              "\n",
              "#sk-container-id-1 div.sk-toggleable__content.fitted {\n",
              "  /* fitted */\n",
              "  background-color: var(--sklearn-color-fitted-level-0);\n",
              "}\n",
              "\n",
              "#sk-container-id-1 div.sk-toggleable__content pre {\n",
              "  margin: 0.2em;\n",
              "  border-radius: 0.25em;\n",
              "  color: var(--sklearn-color-text);\n",
              "  /* unfitted */\n",
              "  background-color: var(--sklearn-color-unfitted-level-0);\n",
              "}\n",
              "\n",
              "#sk-container-id-1 div.sk-toggleable__content.fitted pre {\n",
              "  /* unfitted */\n",
              "  background-color: var(--sklearn-color-fitted-level-0);\n",
              "}\n",
              "\n",
              "#sk-container-id-1 input.sk-toggleable__control:checked~div.sk-toggleable__content {\n",
              "  /* Expand drop-down */\n",
              "  max-height: 200px;\n",
              "  max-width: 100%;\n",
              "  overflow: auto;\n",
              "}\n",
              "\n",
              "#sk-container-id-1 input.sk-toggleable__control:checked~label.sk-toggleable__label-arrow:before {\n",
              "  content: \"▾\";\n",
              "}\n",
              "\n",
              "/* Pipeline/ColumnTransformer-specific style */\n",
              "\n",
              "#sk-container-id-1 div.sk-label input.sk-toggleable__control:checked~label.sk-toggleable__label {\n",
              "  color: var(--sklearn-color-text);\n",
              "  background-color: var(--sklearn-color-unfitted-level-2);\n",
              "}\n",
              "\n",
              "#sk-container-id-1 div.sk-label.fitted input.sk-toggleable__control:checked~label.sk-toggleable__label {\n",
              "  background-color: var(--sklearn-color-fitted-level-2);\n",
              "}\n",
              "\n",
              "/* Estimator-specific style */\n",
              "\n",
              "/* Colorize estimator box */\n",
              "#sk-container-id-1 div.sk-estimator input.sk-toggleable__control:checked~label.sk-toggleable__label {\n",
              "  /* unfitted */\n",
              "  background-color: var(--sklearn-color-unfitted-level-2);\n",
              "}\n",
              "\n",
              "#sk-container-id-1 div.sk-estimator.fitted input.sk-toggleable__control:checked~label.sk-toggleable__label {\n",
              "  /* fitted */\n",
              "  background-color: var(--sklearn-color-fitted-level-2);\n",
              "}\n",
              "\n",
              "#sk-container-id-1 div.sk-label label.sk-toggleable__label,\n",
              "#sk-container-id-1 div.sk-label label {\n",
              "  /* The background is the default theme color */\n",
              "  color: var(--sklearn-color-text-on-default-background);\n",
              "}\n",
              "\n",
              "/* On hover, darken the color of the background */\n",
              "#sk-container-id-1 div.sk-label:hover label.sk-toggleable__label {\n",
              "  color: var(--sklearn-color-text);\n",
              "  background-color: var(--sklearn-color-unfitted-level-2);\n",
              "}\n",
              "\n",
              "/* Label box, darken color on hover, fitted */\n",
              "#sk-container-id-1 div.sk-label.fitted:hover label.sk-toggleable__label.fitted {\n",
              "  color: var(--sklearn-color-text);\n",
              "  background-color: var(--sklearn-color-fitted-level-2);\n",
              "}\n",
              "\n",
              "/* Estimator label */\n",
              "\n",
              "#sk-container-id-1 div.sk-label label {\n",
              "  font-family: monospace;\n",
              "  font-weight: bold;\n",
              "  display: inline-block;\n",
              "  line-height: 1.2em;\n",
              "}\n",
              "\n",
              "#sk-container-id-1 div.sk-label-container {\n",
              "  text-align: center;\n",
              "}\n",
              "\n",
              "/* Estimator-specific */\n",
              "#sk-container-id-1 div.sk-estimator {\n",
              "  font-family: monospace;\n",
              "  border: 1px dotted var(--sklearn-color-border-box);\n",
              "  border-radius: 0.25em;\n",
              "  box-sizing: border-box;\n",
              "  margin-bottom: 0.5em;\n",
              "  /* unfitted */\n",
              "  background-color: var(--sklearn-color-unfitted-level-0);\n",
              "}\n",
              "\n",
              "#sk-container-id-1 div.sk-estimator.fitted {\n",
              "  /* fitted */\n",
              "  background-color: var(--sklearn-color-fitted-level-0);\n",
              "}\n",
              "\n",
              "/* on hover */\n",
              "#sk-container-id-1 div.sk-estimator:hover {\n",
              "  /* unfitted */\n",
              "  background-color: var(--sklearn-color-unfitted-level-2);\n",
              "}\n",
              "\n",
              "#sk-container-id-1 div.sk-estimator.fitted:hover {\n",
              "  /* fitted */\n",
              "  background-color: var(--sklearn-color-fitted-level-2);\n",
              "}\n",
              "\n",
              "/* Specification for estimator info (e.g. \"i\" and \"?\") */\n",
              "\n",
              "/* Common style for \"i\" and \"?\" */\n",
              "\n",
              ".sk-estimator-doc-link,\n",
              "a:link.sk-estimator-doc-link,\n",
              "a:visited.sk-estimator-doc-link {\n",
              "  float: right;\n",
              "  font-size: smaller;\n",
              "  line-height: 1em;\n",
              "  font-family: monospace;\n",
              "  background-color: var(--sklearn-color-background);\n",
              "  border-radius: 1em;\n",
              "  height: 1em;\n",
              "  width: 1em;\n",
              "  text-decoration: none !important;\n",
              "  margin-left: 0.5em;\n",
              "  text-align: center;\n",
              "  /* unfitted */\n",
              "  border: var(--sklearn-color-unfitted-level-1) 1pt solid;\n",
              "  color: var(--sklearn-color-unfitted-level-1);\n",
              "}\n",
              "\n",
              ".sk-estimator-doc-link.fitted,\n",
              "a:link.sk-estimator-doc-link.fitted,\n",
              "a:visited.sk-estimator-doc-link.fitted {\n",
              "  /* fitted */\n",
              "  border: var(--sklearn-color-fitted-level-1) 1pt solid;\n",
              "  color: var(--sklearn-color-fitted-level-1);\n",
              "}\n",
              "\n",
              "/* On hover */\n",
              "div.sk-estimator:hover .sk-estimator-doc-link:hover,\n",
              ".sk-estimator-doc-link:hover,\n",
              "div.sk-label-container:hover .sk-estimator-doc-link:hover,\n",
              ".sk-estimator-doc-link:hover {\n",
              "  /* unfitted */\n",
              "  background-color: var(--sklearn-color-unfitted-level-3);\n",
              "  color: var(--sklearn-color-background);\n",
              "  text-decoration: none;\n",
              "}\n",
              "\n",
              "div.sk-estimator.fitted:hover .sk-estimator-doc-link.fitted:hover,\n",
              ".sk-estimator-doc-link.fitted:hover,\n",
              "div.sk-label-container:hover .sk-estimator-doc-link.fitted:hover,\n",
              ".sk-estimator-doc-link.fitted:hover {\n",
              "  /* fitted */\n",
              "  background-color: var(--sklearn-color-fitted-level-3);\n",
              "  color: var(--sklearn-color-background);\n",
              "  text-decoration: none;\n",
              "}\n",
              "\n",
              "/* Span, style for the box shown on hovering the info icon */\n",
              ".sk-estimator-doc-link span {\n",
              "  display: none;\n",
              "  z-index: 9999;\n",
              "  position: relative;\n",
              "  font-weight: normal;\n",
              "  right: .2ex;\n",
              "  padding: .5ex;\n",
              "  margin: .5ex;\n",
              "  width: min-content;\n",
              "  min-width: 20ex;\n",
              "  max-width: 50ex;\n",
              "  color: var(--sklearn-color-text);\n",
              "  box-shadow: 2pt 2pt 4pt #999;\n",
              "  /* unfitted */\n",
              "  background: var(--sklearn-color-unfitted-level-0);\n",
              "  border: .5pt solid var(--sklearn-color-unfitted-level-3);\n",
              "}\n",
              "\n",
              ".sk-estimator-doc-link.fitted span {\n",
              "  /* fitted */\n",
              "  background: var(--sklearn-color-fitted-level-0);\n",
              "  border: var(--sklearn-color-fitted-level-3);\n",
              "}\n",
              "\n",
              ".sk-estimator-doc-link:hover span {\n",
              "  display: block;\n",
              "}\n",
              "\n",
              "/* \"?\"-specific style due to the `<a>` HTML tag */\n",
              "\n",
              "#sk-container-id-1 a.estimator_doc_link {\n",
              "  float: right;\n",
              "  font-size: 1rem;\n",
              "  line-height: 1em;\n",
              "  font-family: monospace;\n",
              "  background-color: var(--sklearn-color-background);\n",
              "  border-radius: 1rem;\n",
              "  height: 1rem;\n",
              "  width: 1rem;\n",
              "  text-decoration: none;\n",
              "  /* unfitted */\n",
              "  color: var(--sklearn-color-unfitted-level-1);\n",
              "  border: var(--sklearn-color-unfitted-level-1) 1pt solid;\n",
              "}\n",
              "\n",
              "#sk-container-id-1 a.estimator_doc_link.fitted {\n",
              "  /* fitted */\n",
              "  border: var(--sklearn-color-fitted-level-1) 1pt solid;\n",
              "  color: var(--sklearn-color-fitted-level-1);\n",
              "}\n",
              "\n",
              "/* On hover */\n",
              "#sk-container-id-1 a.estimator_doc_link:hover {\n",
              "  /* unfitted */\n",
              "  background-color: var(--sklearn-color-unfitted-level-3);\n",
              "  color: var(--sklearn-color-background);\n",
              "  text-decoration: none;\n",
              "}\n",
              "\n",
              "#sk-container-id-1 a.estimator_doc_link.fitted:hover {\n",
              "  /* fitted */\n",
              "  background-color: var(--sklearn-color-fitted-level-3);\n",
              "}\n",
              "</style><div id=\"sk-container-id-1\" class=\"sk-top-container\"><div class=\"sk-text-repr-fallback\"><pre>RandomForestClassifier(class_weight=&#x27;balanced&#x27;, max_depth=10, random_state=48)</pre><b>In a Jupyter environment, please rerun this cell to show the HTML representation or trust the notebook. <br />On GitHub, the HTML representation is unable to render, please try loading this page with nbviewer.org.</b></div><div class=\"sk-container\" hidden><div class=\"sk-item\"><div class=\"sk-estimator fitted sk-toggleable\"><input class=\"sk-toggleable__control sk-hidden--visually\" id=\"sk-estimator-id-1\" type=\"checkbox\" checked><label for=\"sk-estimator-id-1\" class=\"sk-toggleable__label fitted sk-toggleable__label-arrow\"><div><div>RandomForestClassifier</div></div><div><a class=\"sk-estimator-doc-link fitted\" rel=\"noreferrer\" target=\"_blank\" href=\"https://scikit-learn.org/1.6/modules/generated/sklearn.ensemble.RandomForestClassifier.html\">?<span>Documentation for RandomForestClassifier</span></a><span class=\"sk-estimator-doc-link fitted\">i<span>Fitted</span></span></div></label><div class=\"sk-toggleable__content fitted\"><pre>RandomForestClassifier(class_weight=&#x27;balanced&#x27;, max_depth=10, random_state=48)</pre></div> </div></div></div></div>"
            ]
          },
          "metadata": {},
          "execution_count": 16
        }
      ]
    },
    {
      "cell_type": "markdown",
      "source": [
        "### Evaluating the model form its prediction."
      ],
      "metadata": {
        "id": "D3uQZ-CpyE02"
      }
    },
    {
      "cell_type": "code",
      "source": [
        "y_predict = model.predict(X_test)\n",
        "print(f\"Classification Report : \\n{classification_report(y_test,y_predict)}\")\n",
        "print(\"\\n\")\n",
        "print(f\"Accuracy Score :{accuracy_score(y_test,y_predict)}\")\n",
        "print(f\"Precision Score : {precision_score(y_test,y_predict)}\")\n",
        "print(f\"Recall Score : {recall_score(y_test,y_predict)}\")"
      ],
      "metadata": {
        "colab": {
          "base_uri": "https://localhost:8080/"
        },
        "id": "qzOfprLoxwft",
        "outputId": "2794656e-329f-47c7-a83b-3f857d2c0954"
      },
      "execution_count": 17,
      "outputs": [
        {
          "output_type": "stream",
          "name": "stdout",
          "text": [
            "Classification Report : \n",
            "              precision    recall  f1-score   support\n",
            "\n",
            "           0       0.83      0.70      0.76     12876\n",
            "           1       0.74      0.85      0.79     12638\n",
            "\n",
            "    accuracy                           0.77     25514\n",
            "   macro avg       0.78      0.78      0.77     25514\n",
            "weighted avg       0.78      0.77      0.77     25514\n",
            "\n",
            "\n",
            "\n",
            "Accuracy Score :0.7749470878733244\n",
            "Precision Score : 0.7359704352586914\n",
            "Recall Score : 0.850925779395474\n"
          ]
        }
      ]
    },
    {
      "cell_type": "code",
      "source": [
        "print(f\"Confusion Matrix : \\n{confusion_matrix(y_test,y_predict)}\")\n",
        "print(\"\\n\")\n",
        "print(f\" F1 score : {f1_score(y_test,y_predict)}\")"
      ],
      "metadata": {
        "colab": {
          "base_uri": "https://localhost:8080/"
        },
        "id": "4PxylYdUzMHJ",
        "outputId": "9eb326f8-bf7f-4d37-d2a7-0e2eee877ef6"
      },
      "execution_count": 18,
      "outputs": [
        {
          "output_type": "stream",
          "name": "stdout",
          "text": [
            "Confusion Matrix : \n",
            "[[ 9018  3858]\n",
            " [ 1884 10754]]\n",
            "\n",
            "\n",
            " F1 score : 0.7892844036697247\n"
          ]
        }
      ]
    },
    {
      "cell_type": "markdown",
      "source": [
        "### Now checking the cross validation check of model reliablity\n",
        "for that we check on 6 folds (6 parts of data) and test on each"
      ],
      "metadata": {
        "id": "iBs7vg45zui4"
      }
    },
    {
      "cell_type": "code",
      "source": [
        "Cv_score = cross_val_score(model,X_resampled,y_resampled,cv=10)\n",
        "print(f'CVS score :',Cv_score.mean()*100)"
      ],
      "metadata": {
        "colab": {
          "base_uri": "https://localhost:8080/"
        },
        "id": "EcrHg2MSzldD",
        "outputId": "cf4a9f79-1138-48f2-877c-f2e4169ca498"
      },
      "execution_count": 27,
      "outputs": [
        {
          "output_type": "stream",
          "name": "stdout",
          "text": [
            "CVS score : 60.68484699664798\n"
          ]
        }
      ]
    },
    {
      "cell_type": "markdown",
      "source": [
        "### As we see from Cv validation mean is very low :(\n",
        "\n",
        "### Than after this I try STRAITFIELDFOLD to increase the cross validation score"
      ],
      "metadata": {
        "id": "OKw-F9jgWqvU"
      }
    },
    {
      "cell_type": "code",
      "source": [
        "SKF = StratifiedKFold(n_splits=5, shuffle=True, random_state=48)\n",
        "cv_scores = cross_val_score(model, X_resampled, y_resampled, cv=SKF)\n",
        "print(\"Stratified CV Score:\", cv_scores)\n",
        "print(\"Mean:\",cv_scores.mean()*100)\n"
      ],
      "metadata": {
        "colab": {
          "base_uri": "https://localhost:8080/"
        },
        "id": "j2DDZRxiWpll",
        "outputId": "61e62eae-bb78-42dc-86fb-3b861f2ba95b"
      },
      "execution_count": 26,
      "outputs": [
        {
          "output_type": "stream",
          "name": "stdout",
          "text": [
            "Stratified CV Score: [0.76794638 0.76718208 0.77259098 0.7809983  0.77716369]\n",
            "Mean: 77.31762850689363\n"
          ]
        }
      ]
    },
    {
      "cell_type": "markdown",
      "source": [
        "## Feature Importance and Feature Visulization."
      ],
      "metadata": {
        "id": "tHm1LY8HZL4d"
      }
    },
    {
      "cell_type": "code",
      "source": [
        "importance = model.feature_importances_\n",
        "features = X.columns\n",
        "featureDataframe = pd.DataFrame({'Feature':features,'Importance':importance})\n",
        "featureDataframe = featureDataframe.sort_values('Importance',ascending=False)\n",
        "print(f\"freature importance : \\n{featureDataframe}\",f\" \\n \\n Importance : {featureDataframe['Importance'].sum()}\")"
      ],
      "metadata": {
        "colab": {
          "base_uri": "https://localhost:8080/"
        },
        "id": "MvSkh0CLYLlH",
        "outputId": "f4a55f98-eea3-4980-aff5-c5579beff7e4"
      },
      "execution_count": 34,
      "outputs": [
        {
          "output_type": "stream",
          "name": "stdout",
          "text": [
            "freature importance : \n",
            "                  Feature  Importance\n",
            "8          booking_origin    0.373298\n",
            "12        flight_duration    0.136492\n",
            "4          length_of_stay    0.102211\n",
            "1           sales_channel    0.097375\n",
            "7                   route    0.088574\n",
            "6              flight_day    0.052624\n",
            "3           purchase_lead    0.041879\n",
            "11  wants_in_flight_meals    0.030797\n",
            "5             flight_hour    0.029888\n",
            "0          num_passengers    0.023650\n",
            "10   wants_preferred_seat    0.017098\n",
            "9     wants_extra_baggage    0.004619\n",
            "2               trip_type    0.001493  \n",
            " \n",
            " Importance : 0.9999999999999999\n"
          ]
        }
      ]
    },
    {
      "cell_type": "code",
      "source": [
        "# VISUALIZATION :\n",
        "\n",
        "plt.rcParams['font.family'] = 'sans-serif'  # You can also try 'monospace', 'cursive', 'sans-serif'\n",
        "plt.rcParams['font.size'] = 16\n",
        "plt.figure(figsize= (10,6))\n",
        "sns.barplot(x='Importance',y='Feature',data=featureDataframe,color='green',edgecolor='black')\n",
        "# plt.xticks(rotation=90)\n",
        "plt.title('Feature Importance Form RandomForestClassifier')\n",
        "plt.xlabel('Importance')\n",
        "plt.ylabel('Features')\n",
        "# plt.grid(True,axis='x',linestyle='--',alpha=0.5)\n",
        "plt.tight_layout()\n",
        "plt.show()"
      ],
      "metadata": {
        "colab": {
          "base_uri": "https://localhost:8080/",
          "height": 589
        },
        "id": "7rD-nJKBZUjS",
        "outputId": "4f188bd2-1f2e-483e-e9d7-e0f95b2ac316"
      },
      "execution_count": 49,
      "outputs": [
        {
          "output_type": "display_data",
          "data": {
            "text/plain": [
              "<Figure size 1000x600 with 1 Axes>"
            ],
            "image/png": "[encoded data removed]"
          },
          "metadata": {}
        }
      ]
    },
    {
      "cell_type": "code",
      "source": [
        "# VISUALIZATION :\n",
        "\n",
        "plt.rcParams['font.family'] = 'sans-serif'  # You can also try 'monospace', 'cursive', 'sans-serif'\n",
        "plt.rcParams['font.size'] = 16\n",
        "plt.figure(figsize= (10,8))\n",
        "sns.barplot(y='Importance',x='Feature',data=featureDataframe.sort_values(by='Importance',ascending=True),color='purple',edgecolor='black')\n",
        "plt.xticks(rotation=90)\n",
        "plt.title('Feature Importance Form RandomForestClassifier')\n",
        "plt.xlabel('Importance')\n",
        "plt.ylabel('Features')\n",
        "plt.grid(axis='y',linestyle='--',alpha=1)\n",
        "plt.gca().margins(y=0.02)\n",
        "plt.tight_layout()\n",
        "plt.show()"
      ],
      "metadata": {
        "colab": {
          "base_uri": "https://localhost:8080/",
          "height": 789
        },
        "id": "NMPxE3XKdxDs",
        "outputId": "65c3a97e-e5c2-4695-f948-4d0fc55c69c9"
      },
      "execution_count": 77,
      "outputs": [
        {
          "output_type": "display_data",
          "data": {
            "text/plain": [
              "<Figure size 1000x800 with 1 Axes>"
            ],
            "image/png": "[encoded data removed]"
          },
          "metadata": {}
        }
      ]
    },
    {
      "cell_type": "code",
      "source": [],
      "metadata": {
        "id": "Dgxc-QFcfu-L"
      },
      "execution_count": null,
      "outputs": []
    }
  ],
  "metadata": {
    "kernelspec": {
      "display_name": "Python 3 (ipykernel)",
      "language": "python",
      "name": "python3"
    },
    "language_info": {
      "codemirror_mode": {
        "name": "ipython",
        "version": 3
      },
      "file_extension": ".py",
      "mimetype": "text/x-python",
      "name": "python",
      "nbconvert_exporter": "python",
      "pygments_lexer": "ipython3",
      "version": "3.12.0"
    },
    "vscode": {
      "interpreter": {
        "hash": "4f7924c4c56b083e0e50eadfe7ef592a7a8ef70df33a0047f82280e6be1afe15"
      }
    },
    "colab": {
      "provenance": []
    }
  },
  "nbformat": 4,
  "nbformat_minor": 0
}